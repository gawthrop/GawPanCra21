{
 "cells": [
  {
   "cell_type": "markdown",
   "metadata": {},
   "source": [
    "# Introduction\n",
    "This note illustrates an approach to fitting the parameters of a bond\n",
    "graph model to experimental data. Insofar as the parameters are\n",
    "associated with a bond graph, they are *physically-plausible*\n",
    "<cite data-cite=\"GawCudCra20\"></cite>.\n",
    "\n",
    "    \n",
    "The approach uses a bond-graph derived from a stoichiometric model of *e.coli*\n",
    "<cite data-cite=\"OrtFlePal10\"></cite>\n",
    "(using a method described elsewhere <cite data-cite=\"Gaw20X\"></cite>)\n",
    "combined with experimental values of *reaction potential*, *reaction flux* and *species concentration* from the literature <cite data-cite=\"ParRubXu16\"></cite>.\n"
   ]
  },
  {
   "cell_type": "markdown",
   "metadata": {},
   "source": [
    "## Setup modules"
   ]
  },
  {
   "cell_type": "code",
   "execution_count": 1,
   "metadata": {},
   "outputs": [],
   "source": [
    "## Paths\n",
    "NeedPath=True\n",
    "if NeedPath:\n",
    "    import sys\n",
    "    sys.path += ['/usr/lib/python3/dist-packages']"
   ]
  },
  {
   "cell_type": "code",
   "execution_count": 2,
   "metadata": {},
   "outputs": [],
   "source": [
    "## Maths library\n",
    "import numpy as np\n",
    "import scipy\n",
    "\n",
    "## BG tools\n",
    "import BondGraphTools as bgt\n",
    "\n",
    "## SVG bond graph\n",
    "import svgBondGraph as sbg\n",
    "\n",
    "## BG stoichiometric utilities\n",
    "import stoich as st\n",
    "\n",
    "## Modular bond graphs\n",
    "import modularBondGraph as mbg\n",
    "\n",
    "## Stoichiometric conversion\n",
    "import CobraExtract as Extract\n",
    "import stoichBondGraph as stbg\n",
    "\n",
    "## Potentials\n",
    "import phiData\n",
    "\n",
    "## Faraday constant\n",
    "import scipy.constants as con\n",
    "F = con.physical_constants['Faraday constant'][0]\n",
    "\n",
    "## Display\n",
    "import IPython.display as disp\n",
    "\n",
    "## Plotting\n",
    "import matplotlib.pyplot as plt\n",
    "\n",
    "\n",
    "import copy\n",
    "\n",
    "## Allow output from within functions\n",
    "from IPython.core.interactiveshell import InteractiveShell\n",
    "InteractiveShell.ast_node_interactivity = \"all\"\n",
    "\n",
    "import importlib as imp\n",
    "\n",
    "quiet = True\n",
    "showMu=True"
   ]
  },
  {
   "cell_type": "markdown",
   "metadata": {},
   "source": [
    "## Quadratic programming QP.\n",
    "\\begin{align}\n",
    "\\text{minimise } & \\frac{1}{2}x^TPx + q^Tx\\\\\n",
    "\\text{subject to } & Gx \\le h\\\\\n",
    "\\text{and } & Ax = b\n",
    "\\end{align}\n",
    "\n",
    "In the case considered here, there is no equality constraint and\n",
    "\\begin{align}\n",
    "x &= \\hat{\\phi}\\\\\n",
    "P & = N N^T + \\mu I_{n_X \\times n_X}\\\\\n",
    "q &= (N \\Phi)^T \\\\\n",
    "G &= N^T\\\\\n",
    "h &= -\\Phi_{min}\n",
    "\\end{align}\n",
    "\n",
    "$\\mu > 0$ is required to give a convex QP: in essence it turns a non-unique solution for $\\phi$ into a minimum norm solution."
   ]
  },
  {
   "cell_type": "code",
   "execution_count": 3,
   "metadata": {},
   "outputs": [],
   "source": [
    "## Quadratic programming stuff.\n",
    "import quadprog\n",
    "\n",
    "## Function from https://scaron.info/blog/quadratic-programming-in-python.html\n",
    "def quadprog_solve_qp(P, q, G=None, h=None, A=None, b=None):\n",
    "    qp_G = .5 * (P + P.T)   # make sure P is symmetric\n",
    "    qp_a = -q\n",
    "    if A is not None:\n",
    "        qp_C = -np.vstack([A, G]).T\n",
    "        qp_b = -np.hstack([b, h])\n",
    "        meq = A.shape[0]\n",
    "    else:  # no equality constraint\n",
    "        if G is None:\n",
    "            qp_C = None\n",
    "            qp_b = None\n",
    "        else:\n",
    "            qp_C = -G.T\n",
    "            qp_b = -h\n",
    "        meq = 0\n",
    "    return quadprog.solve_qp(qp_G, qp_a, qp_C, qp_b, meq)[0]\n",
    "\n",
    "## Function to compute phi from Phi subject to Phi>positive number\n",
    "## NN Reduced N corresponding to known Phi\n",
    "def quadsolve_phi(N0,N1,Phi0,Phi_min=0.0,mu=1e-10):\n",
    "    \n",
    "    (n_X,n_V) = N1.shape\n",
    "    P = 1.0*N0@(N0.T) + mu*np.eye(n_X)\n",
    "    q = (N0@Phi0).T\n",
    "    G = 1.0*N1.T\n",
    "    h = -Phi_min*np.ones((n_V))\n",
    "    phi = quadprog_solve_qp(P, q, G=G, h=h)\n",
    "    \n",
    "    return phi\n"
   ]
  },
  {
   "cell_type": "markdown",
   "metadata": {},
   "source": [
    "# Conversion factor"
   ]
  },
  {
   "cell_type": "code",
   "execution_count": 4,
   "metadata": {},
   "outputs": [
    {
     "name": "stdout",
     "output_type": "stream",
     "text": [
      "To convert from kJ/mol to mV, divide by 10.4\n"
     ]
    }
   ],
   "source": [
    "Factor = st.F()/1e6\n",
    "print(f'To convert from kJ/mol to mV, divide by {1/Factor:4.3}')"
   ]
  },
  {
   "cell_type": "markdown",
   "metadata": {},
   "source": [
    "# Extract Model\n",
    "This example uses the Glycolysis and Pentose Phosphate pathways.\n",
    "\n",
    "Notes:\n",
    "\n",
    "- Reactions RPI, PGK and PGM are reversed to correspond to positive flows.\n",
    "- The resultant stoichiometric matrix $N$ relates reaction flows ($f$) to species flows ($\\dot{x}$): \n",
    "\n",
    "\\begin{equation}\n",
    "\\dot{x} = N f\n",
    "\\end{equation}"
   ]
  },
  {
   "cell_type": "markdown",
   "metadata": {},
   "source": [
    "## Extract stoichiometry"
   ]
  },
  {
   "cell_type": "code",
   "execution_count": 5,
   "metadata": {},
   "outputs": [
    {
     "name": "stdout",
     "output_type": "stream",
     "text": [
      "Extracting stoichiometric matrix from: textbook\n",
      "Cobra Model name: e_coli_core BondGraphTools name: e_coli_core_abg\n",
      "Extract.Integer only handles one non-integer per reaction\n",
      "Multiplying reaction BIOMASS_ECOLIORE ( 12 ) by 0.6684491978609626 to avoid non-integer species 3PG ( 2 )\n",
      "Multiplying reaction CYTBD ( 15 ) by 2.0 to avoid non-integer species O2 ( 55 )\n",
      "Multiplying reaction PGK ( 54 ) by -1\n",
      "Multiplying reaction PGM ( 56 ) by -1\n",
      "Multiplying reaction RPI ( 65 ) by -1\n"
     ]
    }
   ],
   "source": [
    "sm = Extract.extract(cobraname='textbook',Remove=['_C','__' ],\n",
    "negReaction=['RPI','PGK','PGM'], quiet=quiet)\n"
   ]
  },
  {
   "cell_type": "code",
   "execution_count": 6,
   "metadata": {},
   "outputs": [
    {
     "data": {
      "text/plain": [
       "<module 'GlyPPP_abg' from '/home/peterg/WORK/Research/SystemsBiology/Notes/2021/Parameter/GlyPPP_abg.py'>"
      ]
     },
     "execution_count": 6,
     "metadata": {},
     "output_type": "execute_result"
    }
   ],
   "source": [
    "name = 'GlyPPP_abg'\n",
    "reaction = []\n",
    "\n",
    "## Glycolysis\n",
    "reaction += ['PGI','PFK','FBA','TPI']\n",
    "\n",
    "## Pentose Phosphate\n",
    "reaction += ['G6PDH2R','PGL','GND','RPI','TKT2','TALA','TKT1','RPE']\n",
    "\n",
    "ss = Extract.choose(sm,reaction=reaction)\n",
    "\n",
    "## Create BG\n",
    "ss['name'] = name\n",
    "stbg.model(ss)\n",
    "import GlyPPP_abg\n",
    "imp.reload(GlyPPP_abg)\n",
    "s = st.stoich(GlyPPP_abg.model(),quiet=quiet)"
   ]
  },
  {
   "cell_type": "code",
   "execution_count": 7,
   "metadata": {},
   "outputs": [
    {
     "name": "stdout",
     "output_type": "stream",
     "text": [
      "['ADP', 'ATP', 'CO2', 'G3P', 'G6P', 'H', 'H2O', 'NADP', 'NADPH', 'R5P']\n",
      "3 pathways\n",
      "0:  + PGI + PFK + FBA + TPI\n",
      "1:  + G6PDH2R + PGL + GND + RPI\n",
      "2:  - 2 PGI + 2 G6PDH2R + 2 PGL + 2 GND + TKT2 + TALA + TKT1 + 2 RPE\n",
      "\n"
     ]
    },
    {
     "data": {
      "text/latex": [
       "\\begin{align}\n",
       "\\ch{ATP + G6P & <> [ PPP1 ] ADP + 2 G3P + H }\\\\\n",
       "\\ch{G6P + H2O + 2 NADP & <> [ PPP2 ] CO2 + 2 H + 2 NADPH + R5P }\\\\\n",
       "\\ch{2 H2O + 4 NADP + R5P & <> [ PPP3 ] 2 CO2 + G3P + 4 H + 4 NADPH }\n",
       "\\end{align}\n"
      ],
      "text/plain": [
       "<IPython.core.display.Latex object>"
      ]
     },
     "execution_count": 7,
     "metadata": {},
     "output_type": "execute_result"
    }
   ],
   "source": [
    "\n",
    "## Set up chemostats\n",
    "chemostats = ['ADP','ATP','H','H2O','NADP','NADPH','CO2']\n",
    "chemostats += ['G6P','G3P','R5P']\n",
    "#chemostats += ['G6P','R5P']\n",
    "chemostats.sort()\n",
    "print(chemostats)\n",
    "sc = st.statify(s,chemostats=chemostats)\n",
    "\n",
    "sp = st.path(s,sc,pathname='PPP')\n",
    "print(st.sprintp(sc))\n",
    "disp.Latex(st.sprintrl(sp,chemformula=True))\n"
   ]
  },
  {
   "cell_type": "code",
   "execution_count": 8,
   "metadata": {
    "scrolled": true
   },
   "outputs": [
    {
     "name": "stdout",
     "output_type": "stream",
     "text": [
      "\\begin{align}\n",
      "K^T &=\n",
      "\\left(\\begin{array}{cccccccccccc}1 & 1 & 1 & 1 & 0 & 0 & 0 & 0 & 0 & 0 & 0 & 0\\\\0 & 0 & 0 & 0 & 1 & 1 & 1 & 1 & 0 & 0 & 0 & 0\\\\-2 & 0 & 0 & 0 & 2 & 2 & 2 & 0 & 1 & 1 & 1 & 2\\end{array}\\right)\n",
      "\\end{align}\n",
      "\n"
     ]
    },
    {
     "data": {
      "text/latex": [
       "\\begin{align}\n",
       "K^T &=\n",
       "\\left(\\begin{array}{cccccccccccc}1 & 1 & 1 & 1 & 0 & 0 & 0 & 0 & 0 & 0 & 0 & 0\\\\0 & 0 & 0 & 0 & 1 & 1 & 1 & 1 & 0 & 0 & 0 & 0\\\\-2 & 0 & 0 & 0 & 2 & 2 & 2 & 0 & 1 & 1 & 1 & 2\\end{array}\\right)\n",
       "\\end{align}\n"
      ],
      "text/plain": [
       "<IPython.core.display.Latex object>"
      ]
     },
     "execution_count": 8,
     "metadata": {},
     "output_type": "execute_result"
    }
   ],
   "source": [
    "print(st.sprintl(sc,'K',transpose=True))\n",
    "disp.Latex(st.sprintl(sc,'K',transpose=True))"
   ]
  },
  {
   "cell_type": "markdown",
   "metadata": {},
   "source": [
    "## Extract reaction potentials $\\Phi$ and deduce plausible species potentials $\\phi$.\n",
    "\n",
    "Because of the energetic constaints implied by the bond graph, the reaction potentials $\\Phi$ are \n",
    "related to the species potentials $\\phi$ by\n",
    "\\begin{equation}\n",
    "\\Phi = - N^T \\phi\n",
    "\\end{equation}\n",
    "Typically, there are more species than reactions and so $N$ has more rows than columns.\n",
    "Given the reaction potentials $\\Phi$, the species potentials can be estimated using\n",
    "the *pseudo inverse* $N^\\dagger$ of $-N^T$:\n",
    "\\begin{equation}\n",
    "\\hat{\\phi} = N^\\dagger \\Phi\n",
    "\\end{equation}\n",
    "\n",
    "Notes:\n",
    "\n",
    "- In general $\\hat{\\phi} \\ne \\phi$ but is physically plausible insofar as $-N^T \\hat{\\phi}=\\Phi$."
   ]
  },
  {
   "cell_type": "code",
   "execution_count": 9,
   "metadata": {},
   "outputs": [],
   "source": [
    "def getPhi(s,Phi_hyd=0.5,phi_6PGL=None,quadprog=False):\n",
    "    \"\"\"Extract phi for given system using\n",
    "    Reaction potentials from ParRubXu16\"\"\"\n",
    "    \n",
    "    ## Reaction potentials from ParRubXu16\n",
    "    PHI = phiData.Phi_ParRubXu16_Measured()\n",
    "    \n",
    "#     Phenotype = 'Mammalian'\n",
    "#     Phenotype = 'Yeast'\n",
    "    Phenotype = 'Ecoli'\n",
    "    Phi_reac = PHI[Phenotype]\n",
    "    \n",
    "    Phi = np.zeros((len(s['reaction']),1))\n",
    "    N = copy.copy(s['N'])\n",
    "    N_0 = None\n",
    "    N_1 = None\n",
    "    Phi_0 = []\n",
    "    for j,reac in enumerate(s['reaction']):\n",
    "        if (reac in Phi_reac.keys()) and not np.isnan(Phi_reac[reac]):\n",
    "            Phi_0.append(Phi_reac[reac])\n",
    "            if N_0 is None:\n",
    "                N_0 = N[:,j]\n",
    "            else:\n",
    "                N_0 = np.vstack((N_0,N[:,j]))\n",
    "        else:\n",
    "            if N_1 is None:\n",
    "                N_1 = N[:,j]\n",
    "            else:\n",
    "                N_1 = np.vstack((N_1,N[:,j]))\n",
    "\n",
    "    Phi_0 = np.array(Phi_0)\n",
    "    #print(N_1)\n",
    "    \n",
    "    ## Compute Phi\n",
    "    N_0 = N_0.T\n",
    "    N_1 = N_1.T\n",
    "    \n",
    "    n_X,n_V = N_0.shape\n",
    "    print(f'Extracting {n_X} values of phi from {n_V} values of Phi')\n",
    "\n",
    "    \n",
    "    if quadprog:\n",
    "        phi = quadsolve_phi(N_0,N_1,Phi_0,Phi_min=1e-3,mu=1e-10)\n",
    "    else:\n",
    "        ## Compute Phi using pseudo inverse\n",
    "        pinvNT =  scipy.linalg.pinv(N_0.T)\n",
    "        phi = -pinvNT@Phi_0\n",
    "        \n",
    "    if phi_6PGL is not None:\n",
    "        ## Reset 6PGL\n",
    "        i_6PGL = s['species'].index('6PGL')\n",
    "        phi[i_6PGL] = phi_6PGL\n",
    "        print (f'Resetting phi_6GPL to {int(1e3*phi[i_6PGL])} mV' )\n",
    "\n",
    "    ## Sanity check\n",
    "    Phi_new = -N_0.T@phi\n",
    "    err = np.linalg.norm(Phi_new-Phi_0)\n",
    "    print(f'Phi error = {int(err*1000)}mV\\n')\n",
    "    \n",
    "    Phi = -N.T@phi\n",
    "    \n",
    "    return Phi,phi,Phi_0,Phi_reac\n",
    "     "
   ]
  },
  {
   "cell_type": "code",
   "execution_count": 10,
   "metadata": {},
   "outputs": [
    {
     "name": "stdout",
     "output_type": "stream",
     "text": [
      "Extracting 19 values of phi from 10 values of Phi\n",
      "Phi error = 0mV\n",
      "\n",
      "Minimum Phi =  -3 mV\n"
     ]
    }
   ],
   "source": [
    "Phi_,phi_est_,Phi_0_,Phi_reac_ = getPhi(s,quadprog=False)\n",
    "print('Minimum Phi = ', int(round(np.min(1e3*Phi_))), 'mV')"
   ]
  },
  {
   "cell_type": "code",
   "execution_count": 11,
   "metadata": {},
   "outputs": [
    {
     "name": "stdout",
     "output_type": "stream",
     "text": [
      "Extracting 19 values of phi from 10 values of Phi\n",
      "Phi error = 0mV\n",
      "\n",
      "Minimum Phi =  0 mV\n",
      "\n",
      "Change in phi\n",
      "1 6PGL\t 1\n",
      "12 H2O\t 1\n",
      "\n",
      "Change in Phi\n",
      "5 PGL\t 4 1 -3\n"
     ]
    }
   ],
   "source": [
    "Phi,phi_est,Phi_0,Phi_reac = getPhi(s,quadprog=True)\n",
    "print('Minimum Phi = ', int(round(np.min(1e3*Phi))), 'mV')\n",
    "\n",
    "print('\\nChange in phi')\n",
    "for i,spec in enumerate(s['species']):\n",
    "    change = int(1e3*(phi_est[i]-phi_est_[i]))\n",
    "    if not change==0:\n",
    "        print(f'{i} {spec}\\t {change}')\n",
    "    \n",
    "print('\\nChange in Phi')\n",
    "for i,reac in enumerate(s['reaction']):\n",
    "    change = int(round(1e3*(Phi[i]-Phi_[i])))\n",
    "    if not change == 0:\n",
    "        print(f'{i} {reac}\\t {change} {int(round(1e3*Phi[i]))} {int(round(1e3*Phi_[i]))}')\n",
    "        "
   ]
  },
  {
   "cell_type": "markdown",
   "metadata": {},
   "source": [
    "## Extracted reactions and reaction potentials"
   ]
  },
  {
   "cell_type": "code",
   "execution_count": 12,
   "metadata": {},
   "outputs": [
    {
     "data": {
      "text/latex": [
       "\\begin{xalignat*}{2}\n",
       "\\ch{G6P & <> [ PGI ] F6P }&&(16~\\text{mV})\\;[-1.59~\\text{kJ mol}^{-1}]\\\\\n",
       "\\ch{ATP + F6P & <> [ PFK ] ADP + FDP + H }&&(68~\\text{mV})\\;[-6.64~\\text{kJ mol}^{-1}]\\\\\n",
       "\\ch{FDP & <> [ FBA ] DHAP + G3P }&&(20~\\text{mV})\\;[-1.93~\\text{kJ mol}^{-1}]\\\\\n",
       "\\ch{DHAP & <> [ TPI ] G3P }&&(7~\\text{mV})\\;[-0.77~\\text{kJ mol}^{-1}]\\\\\n",
       "\\ch{G6P + NADP & <> [ G6PDH2R ] 6PGL + H + NADPH }&&(82~\\text{mV})\\;[-7.99~\\text{kJ mol}^{-1}]\\\\\n",
       "\\ch{6PGL + H2O & <> [ PGL ] 6PGC + H }&&(1~\\text{mV})\\;[-0.10~\\text{kJ mol}^{-1}]\\\\\n",
       "\\ch{6PGC + NADP & <> [ GND ] CO2 + NADPH + RU5PD }&&(114~\\text{mV})\\;[-11.05~\\text{kJ mol}^{-1}]\\\\\n",
       "\\ch{RU5PD & <> [ RPI ] R5P }&&(0~\\text{mV})\\;[-0.00~\\text{kJ mol}^{-1}]\\\\\n",
       "\\ch{E4P + XU5PD & <> [ TKT2 ] F6P + G3P }&&(16~\\text{mV})\\;[-1.58~\\text{kJ mol}^{-1}]\\\\\n",
       "\\ch{G3P + S7P & <> [ TALA ] E4P + F6P }&&(54~\\text{mV})\\;[-5.25~\\text{kJ mol}^{-1}]\n",
       "\\end{xalignat*}\n",
       "\n",
       "\\begin{xalignat*}{2}\n",
       "\\ch{R5P + XU5PD & <> [ TKT1 ] G3P + S7P }&&(4~\\text{mV})\\;[-0.39~\\text{kJ mol}^{-1}]\\\\\n",
       "\\ch{RU5PD & <> [ RPE ] XU5PD }&&(0~\\text{mV})\\;[-0.08~\\text{kJ mol}^{-1}]\n",
       "\\end{xalignat*}\n"
      ],
      "text/plain": [
       "<IPython.core.display.Latex object>"
      ]
     },
     "execution_count": 12,
     "metadata": {},
     "output_type": "execute_result"
    }
   ],
   "source": [
    "disp.Latex(st.sprintrl(s,chemformula=True,Phi=Phi,units=['mV','kJ'] ,showMu=showMu))"
   ]
  },
  {
   "cell_type": "markdown",
   "metadata": {},
   "source": [
    "# Deduce Pathway Flows\n",
    "\n",
    "From basic stoichiometric analysis, steady-state flows can be written as:\n",
    "\\begin{align}\n",
    "f &= K_p f_p\\\\\n",
    "\\text{where }\n",
    "K_p N^{cd} &= 0\n",
    "\\end{align}\n",
    "Note that the *pathway matrix* $K_p$ is dependent on the choice of chemostats.\n",
    "\n",
    "Given a set of experimental flows $f$, an estimate $\\hat{f}_p$ of $f_p$ can be obtained from the *least-squares* formula:\n",
    "\\begin{equation}\n",
    "(K_p^T K_p) \\hat{f}_p = K_p^T f\n",
    "\\end{equation}\n",
    "\n",
    "Notes:\n",
    "\n",
    "- $v_p$ is a $n_p$ vector containg the pathways flows\n",
    "- $(K_p^T K_p)$ is a square $n_p \\times n_p$ matrix where $n_p$ is the number of pathways\n",
    "- If some flows are not measured, the corresponding rows of $K_p$ are deleted\n",
    "- the reaction flows (including the missing ones) can be estimated from $\\hat{f} = K_p \\hat{f}_p$.\n",
    "- the estimated chemostat flows are given by the non-zero elements of\n",
    "\\begin{equation}\n",
    "\\hat{\\dot{x}} = N \\hat{f}\n",
    "\\end{equation}"
   ]
  },
  {
   "cell_type": "code",
   "execution_count": 13,
   "metadata": {},
   "outputs": [],
   "source": [
    "def PathwayFlux(K,reaction,Reaction,flux):\n",
    "    \n",
    "    #KK = st.singleRemove(K)\n",
    "    KK = K\n",
    "    Kp = None\n",
    "    Flux = {}\n",
    "    reac_known = []\n",
    "    #flux = phiData.ParRubXu16_flux()\n",
    "    for i,reac in enumerate(reaction):\n",
    "        if reac in flux.keys():\n",
    "            reac_known.append(reac)\n",
    "            fi = flux[reac]\n",
    "            #Ki = np.abs(KK[i,:])\n",
    "            Ki = KK[i,:]\n",
    "            #print(reac,Ki)\n",
    "            if Kp is None:\n",
    "                Kp = Ki\n",
    "                f = fi\n",
    "            else:\n",
    "                Kp = np.vstack((Kp,Ki))\n",
    "                f = np.vstack((f,fi))\n",
    "    #print(Kp)\n",
    "\n",
    "    if Kp is not None:    \n",
    "        #print(f)\n",
    "        f_p = np.linalg.solve(Kp.T@Kp,Kp.T@f)\n",
    "        for i,Reac in enumerate(Reaction):\n",
    "            Flux[Reac] = f_p[i][0]\n",
    "        #print(f_p)\n",
    "        f_est = Kp@f_p\n",
    "        #print(Kp@f_p-f)\n",
    "        \n",
    "    error = np.linalg.norm(f_est-f)/len(f)\n",
    "    print(f'Flux error = {error:.2e}')\n",
    "    \n",
    "    return Flux,f_p,f_est,f,reac_known\n",
    "    "
   ]
  },
  {
   "cell_type": "markdown",
   "metadata": {},
   "source": [
    "# Reaction constants (modified mass-action) and Michaelis-Menten\n",
    "\n",
    "The modified mass-action formula is <cite data-cite=\"GawCudCra20\"></cite>:\n",
    "\\begin{align}\n",
    "  f &= \\kappa \\left ( \\exp \\frac{\\Phi^f}{\\alpha V_N} - \\exp\n",
    "      \\frac{\\Phi^r}{\\alpha V_N} \\right )\\label{eq:MMA0}\n",
    "\\end{align}\n",
    "Thus an estimate for $\\kappa$ can be computed as:\n",
    "\\begin{align}\n",
    "\\hat{\\kappa} &= \\frac{\\hat{f}}{f_0}\\\\\n",
    "\\text{where }\n",
    "f_0 &= \\left ( \\exp \\frac{\\Phi^f}{\\alpha V_N} - \\exp\n",
    "      \\frac{\\Phi^r}{\\alpha V_N} \\right )\n",
    "\\end{align}"
   ]
  },
  {
   "cell_type": "code",
   "execution_count": 14,
   "metadata": {},
   "outputs": [],
   "source": [
    "def reactionConstant(s,phi_est,f_est,alpha=1,K_E=100,K_C=1,rho=0.9):\n",
    "    \n",
    "    V_N = st.V_N()\n",
    "    \n",
    "    ## Extract stoichiometry\n",
    "    N = s['N']\n",
    "    Nf = s['Nf']\n",
    "    Nr = s['Nr']\n",
    "    reaction = s['reaction']\n",
    "    \n",
    "    ## Compute Phis from estimated phi \n",
    "    Phi_ = -N.T@phi_est\n",
    "    Phi_f = Nf.T@phi_est \n",
    "    Phi_r = Nr.T@phi_est\n",
    "\n",
    "    ## Compute normalised flow rates\n",
    "    \n",
    "    f_plus  = np.exp(Phi_f/(alpha*V_N)) \n",
    "    f_minus = np.exp(Phi_r/(alpha*V_N))\n",
    "    f0 = f_plus - f_minus\n",
    "  \n",
    "    \n",
    "    parameter = {}\n",
    "    MMparameter = {}\n",
    "    for i,react in enumerate(reaction):\n",
    "        MMpar = {}\n",
    "        kap = f_est[i][0]/f0[i]\n",
    "        parameter[f'kappa_{react}'] = kap\n",
    "        #print(f'{react}: \\tPhi = {int(Phi_[i]*1000)}mV, \\tf_est = {f_est[i][0]:.2e}, \\tkappa = {kap:.2}')\n",
    "        \n",
    "        ## MM version\n",
    "        X_data = np.array([1,f_est[i][0],-f_est[i][0]/f0[i]])\n",
    "        Y_data = f_est[i][0]*f_plus[i]/f0[i]\n",
    "#         print(X_data)\n",
    "#         print(Y_data)\n",
    "        \n",
    "        XTX = np.outer(X_data,X_data)\n",
    "        XTy = X_data*Y_data\n",
    "\n",
    "#         print('XTX:', XTX)\n",
    "#         print('XTy:', XTy)\n",
    "        \n",
    "        ## Pseuso inverse eapproach\n",
    "#         theta = np.linalg.pinv(XTX)@XTy\n",
    "#         print(theta)\n",
    "        \n",
    "        ## QP approach\n",
    "#         f_max_est = 10\n",
    "        rho_est = rho\n",
    "        k_v_est = K_C/K_E\n",
    "        \n",
    "        G = -np.eye(3)\n",
    "        h = -0*np.ones(3)\n",
    "        A_eq = np.array([[0,1,0],[0,0,1]])\n",
    "        b_eq = np.array([rho_est,k_v_est])\n",
    "        \n",
    "#         A_eq = np.array([[1,0,0],[0,1,0]])\n",
    "#         b_eq = np.array([f_max_est,rho_est])\n",
    "        \n",
    "        \n",
    "        theta = quadprog_solve_qp(XTX+1e-10*np.eye(3),-XTy,G,h,A_eq,b_eq)\n",
    "        f_max = theta[0]\n",
    "        rho = theta[1]\n",
    "        k_v = theta[2]\n",
    "        kappa = f_max/k_v\n",
    "        \n",
    "        MMpar['f_max'] = theta[0]\n",
    "        MMpar['rho'] = theta[1]\n",
    "        MMpar['k_v'] = theta[2]\n",
    "#         print(f'{react}: kappa={kappa:6.2f} f_max={f_max:.2} rho={rho:0.2f} k_v={k_v:6.2f}')\n",
    "        \n",
    "        MMparameter[react] = MMpar\n",
    "\n",
    "    return parameter,MMparameter"
   ]
  },
  {
   "cell_type": "code",
   "execution_count": 15,
   "metadata": {},
   "outputs": [],
   "source": [
    "## Convert to BG parameters\n",
    "def MMtoBG(MMpar,K_E=100):\n",
    "    kappa = np.zeros(2)\n",
    "    K_CE = np.zeros(2)\n",
    "    rho = MMpar['rho']\n",
    "    K_C = K_E*MMpar['k_v']\n",
    "#     print(MMpar)\n",
    "    kappa_bar = MMpar['f_max']/K_C\n",
    "    kappa[0] = kappa_bar/rho\n",
    "    kappa[1] = kappa_bar/(1-rho)\n",
    "    \n",
    "    K_CE[0] = K_C\n",
    "    K_CE[1] = K_E\n",
    "#     print(kappa_1,kappa_2,K_E)\n",
    "    \n",
    "    return kappa,K_CE\n",
    "    \n"
   ]
  },
  {
   "cell_type": "markdown",
   "metadata": {},
   "source": [
    "## Normalise data"
   ]
  },
  {
   "cell_type": "code",
   "execution_count": 16,
   "metadata": {},
   "outputs": [
    {
     "data": {
      "text/plain": [
       "<module 'phiData' from '/home/peterg/WORK/Research/SystemsBiology/lib/python/phiData.py'>"
      ]
     },
     "execution_count": 16,
     "metadata": {},
     "output_type": "execute_result"
    },
    {
     "name": "stdout",
     "output_type": "stream",
     "text": [
      "c_0 = 7.88 mM, f_0 = 0.9916666666666667 mM/sec, t_0 = 7.946218487394957 sec\n"
     ]
    }
   ],
   "source": [
    "imp.reload(phiData)\n",
    "## Extract experimetal data\n",
    "Concentration = phiData.ParRubXu16_conc() # M\n",
    "concentration = Concentration['Ecoli']\n",
    "\n",
    "Flux = phiData.ParRubXu16_flux() # mM/min\n",
    "flux = Flux['Ecoli']\n",
    "\n",
    "c_0 = concentration['G6P']\n",
    "f_0 = flux['PGI']/60\n",
    "t_0 = (1e3*c_0)/f_0\n",
    "\n",
    "print(f'c_0 = {c_0*1000} mM, f_0 = {f_0} mM/sec, t_0 = {t_0} sec')"
   ]
  },
  {
   "cell_type": "markdown",
   "metadata": {},
   "source": [
    "## Show computed reaction flows"
   ]
  },
  {
   "cell_type": "code",
   "execution_count": 17,
   "metadata": {
    "scrolled": false
   },
   "outputs": [
    {
     "name": "stdout",
     "output_type": "stream",
     "text": [
      "['PPP1']\n",
      "['PPP1', 'PPP2']\n",
      "['PPP1', 'PPP2', 'PPP3']\n",
      "Flux error = 1.86e-01\n",
      "\n",
      "\n",
      "%% LaTeX table\n",
      "\\hline\n",
      "Reaction &\t $\\Phi$~mV &\t $\\hat{\\Phi}$~mV &\t $f$ & $\\hat{f}$ & $\\hat{\\kappa}$ & $\\hat{\\kappa_1}$ & $\\hat{\\kappa_2}$\\\\\n",
      "\\hline\n",
      "PGI &\t 16.48 &\t 16.48 &\t 60.00 & 59.52         & 154.39 & 66.44 & 16.61 \\\\\n",
      "PFK &\t 68.82 &\t 68.82 &\t 62.62 & 63.12         & 54.85 & 30.59 & 7.65 \\\\\n",
      "FBA &\t 20.00 &\t 20.00 &\t 63.43 & 63.12         & 160.08 & 61.59 & 15.40 \\\\\n",
      "TPI &\t 7.98 &\t 7.98 &\t 62.82 & 63.12         & 353.93 & 133.64 & 33.41 \\\\\n",
      "G6PDH2R &\t -- &\t 82.84 &\t -- & 11.58         & 4.67 & 5.14 & 1.28 \\\\\n",
      "PGL &\t -- &\t 1.00 &\t -- & 11.58         & 291.64 & 171.06 & 42.77 \\\\\n",
      "GND &\t 114.53 &\t 114.53 &\t 11.70 & 11.58         & 1.27 & 4.78 & 1.19 \\\\\n",
      "RPI &\t 0.04 &\t 0.04 &\t 7.87 & 7.98         & 4206.98 & 2785.35 & 696.34 \\\\\n",
      "TKT2 &\t 16.38 &\t 16.38 &\t 0.91 & 1.80         & 9.17 & 2.24 & 0.56 \\\\\n",
      "TALA &\t 54.41 &\t 54.41 &\t -- & 1.80         & 1.66 & 0.94 & 0.23 \\\\\n",
      "TKT1 &\t 4.04 &\t 4.04 &\t 2.92 & 1.80         & 8.82 & 6.66 & 1.67 \\\\\n",
      "RPE &\t 0.83 &\t 0.83 &\t 3.83 & 3.59         & 96.07 & 63.27 & 15.82 \\\\\n",
      "\\hline\n"
     ]
    }
   ],
   "source": [
    "K = sc['K']\n",
    "n_path = K.shape[1]\n",
    "Reaction = []\n",
    "for i in range(n_path):\n",
    "    Reaction += [f'PPP{i+1}']\n",
    "    \n",
    "    print(Reaction)\n",
    "\n",
    "for reac in flux.keys():\n",
    "    flux[reac] *= 1/f_0\n",
    "\n",
    "fluxp,f_p,f_est,f,reaction = PathwayFlux(sc['K'],s['reaction'],Reaction,flux)\n",
    "\n",
    "## Assumed values:\n",
    "K_E = 10\n",
    "K_C = 1\n",
    "rho = 0.2\n",
    "\n",
    "\n",
    "## Reaction constants\n",
    "f_est = sc['K']@f_p\n",
    "parameter,MMparameter = reactionConstant(s,phi_est,f_est,K_E=K_E,K_C=K_C,rho=rho)\n",
    "K_C=K_C\n",
    "#f_est = sc['K']@f_p\n",
    "j=0\n",
    "\n",
    "print('\\n\\n%% LaTeX table')\n",
    "print('\\\\hline')\n",
    "print('Reaction &\\t $\\Phi$~mV &\\t $\\hat{\\Phi}$~mV &\\t $f$ & $\\\\hat{f}$ \\\n",
    "& $\\\\hat{\\\\kappa}$ & $\\\\hat{\\\\kappa_1}$ & $\\\\hat{\\\\kappa_2}$\\\\\\\\')\n",
    "print('\\\\hline') \n",
    "for i,reac in enumerate(s['reaction']):\n",
    "\n",
    "    ## BG MM equivalent\n",
    "    MMpar = MMparameter[reac]\n",
    "    kappa_MM,K_CE = MMtoBG(MMpar,K_E=100.0)\n",
    "\n",
    "    if reac in flux.keys():\n",
    "        ff = f'{f[j][0]:0.2f}'\n",
    "        j += 1\n",
    "    else:\n",
    "        ff = '--'\n",
    "    if reac in Phi_reac.keys():\n",
    "        PP = f'{1e3*Phi_reac[reac]:.2f}'\n",
    "    else:\n",
    "        PP = '--'\n",
    "    kappa = 'kappa_'+reac\n",
    "    print(\n",
    "        f'{reac} &\\t {PP} &\\t {1e3*Phi[i]:.2f} &\\t {ff} & {f_est[i][0]:0.2f} \\\n",
    "        & {parameter[kappa]:.2f} & {kappa_MM[0]:.2f} & {kappa_MM[1]:.2f} \\\\\\\\'\n",
    "    )\n",
    "print('\\\\hline')"
   ]
  },
  {
   "cell_type": "markdown",
   "metadata": {},
   "source": [
    "## Show computed chemostat flows"
   ]
  },
  {
   "cell_type": "code",
   "execution_count": 18,
   "metadata": {},
   "outputs": [
    {
     "name": "stdout",
     "output_type": "stream",
     "text": [
      "\n",
      "\n",
      "%% LaTeX table\n",
      "\\hline\n",
      "Chemostat &\t flow \\\\\n",
      "\\hline\n",
      "ADP &\t 63.12 \\\\\n",
      "ATP &\t -63.12 \\\\\n",
      "CO2 &\t 11.58 \\\\\n",
      "G3P &\t 128.03 \\\\\n",
      "G6P &\t -71.10 \\\\\n",
      "H &\t 86.27 \\\\\n",
      "H2O &\t -11.58 \\\\\n",
      "NADP &\t -23.16 \\\\\n",
      "NADPH &\t 23.16 \\\\\n",
      "R5P &\t 6.19 \\\\\n",
      "\\hline\n"
     ]
    }
   ],
   "source": [
    "dx_est = s['N']@f_est\n",
    "\n",
    "print('\\n\\n%% LaTeX table')\n",
    "print('\\\\hline')\n",
    "print('Chemostat &\\t flow \\\\\\\\')\n",
    "print('\\\\hline')\n",
    "for i,spec in enumerate(s['species']):\n",
    "    if spec in chemostats:\n",
    "        print(f'{spec} &\\t {dx_est[i][0]:0.2f} \\\\\\\\')\n",
    "print('\\\\hline')"
   ]
  },
  {
   "cell_type": "markdown",
   "metadata": {},
   "source": [
    "## Show pathway flows"
   ]
  },
  {
   "cell_type": "code",
   "execution_count": 19,
   "metadata": {},
   "outputs": [
    {
     "name": "stdout",
     "output_type": "stream",
     "text": [
      "\n",
      "\n",
      "%% LaTeX table\n",
      "\\hline\n",
      "Pathway &\t $\\hat{f}_p$ \\\\\n",
      "\\hline\n",
      "PPP1 &\t 63.12 \\\\\n",
      "PPP2 &\t 7.98 \\\\\n",
      "PPP3 &\t 1.80 \\\\\n",
      "\\hline\n"
     ]
    }
   ],
   "source": [
    "print('\\n\\n%% LaTeX table')\n",
    "print('\\\\hline')\n",
    "print('Pathway &\\t $\\hat{f}_p$ \\\\\\\\')\n",
    "print('\\\\hline')\n",
    "for reac in fluxp.keys():\n",
    "    print(f'{reac} &\\t {fluxp[reac]:0.2f} \\\\\\\\')\n",
    "print('\\\\hline')"
   ]
  },
  {
   "cell_type": "markdown",
   "metadata": {},
   "source": [
    "# Species constants\n",
    "\n",
    "\\begin{equation}\n",
    "K = \\frac{\\exp \\phi}{x^\\circ} = \\frac{\\exp \\phi}{V c^\\circ}\n",
    "\\end{equation}"
   ]
  },
  {
   "cell_type": "code",
   "execution_count": 45,
   "metadata": {
    "scrolled": false
   },
   "outputs": [
    {
     "name": "stdout",
     "output_type": "stream",
     "text": [
      "\n",
      "\n",
      "%% LaTeX table\n",
      "\\hline\n",
      "Species &\t $\\hat{\\phi}~mV$ & $\\frac{c}{c_0}$ & $\\hat{K}$ \\\\\n",
      "\\hline\n",
      "6PGC & 29 &  \t0.4784 & 6.2335 \\\\\n",
      "ADP & -27 &  \t0.0704 & 5.1546 \\\\\n",
      "ATP & 27 &  \t1.2221 & 2.2539 \\\\\n",
      "CO2 & -30 &  \t0.0095 & 33.7942 \\\\\n",
      "DHAP & -10 &  \t0.3883 & 1.7790 \\\\\n",
      "E4P & -27 &  \t0.0062 & 57.9353 \\\\\n",
      "F6P & -21 &  \t0.3198 & 1.4140 \\\\\n",
      "FDP & -8 &  \t1.9289 & 0.3880 \\\\\n",
      "G3P & -18 &  \t0.0344 & 14.9020 \\\\\n",
      "G6P & -5 &  \t1.0000 & 0.8377 \\\\\n",
      "NADP & 30 &  \t0.0003 & 11747.0633 \\\\\n",
      "NADPH & -30 &  \t0.0154 & 21.0027 \\\\\n",
      "R5P & 5 &  \t0.0999 & 12.2419 \\\\\n",
      "RU5PD & 5 &  \t0.0142 & 86.1551 \\\\\n",
      "S7P & 24 &  \t0.1119 & 21.7513 \\\\\n",
      "XU5PD & 5 &  \t0.0230 & 51.6829 \\\\\n",
      "\\hline\n",
      "['6PGC', '6PGL', 'ADP', 'ATP', 'CO2', 'DHAP', 'E4P', 'F6P', 'FDP', 'G3P', 'G6P', 'H', 'H2O', 'NADP', 'NADPH', 'R5P', 'RU5PD', 'S7P', 'XU5PD']\n"
     ]
    }
   ],
   "source": [
    "#imp.reload(phiData)\n",
    "\n",
    "print('\\n\\n%% LaTeX table')\n",
    "print('\\\\hline')\n",
    "print('Species &\\t $\\\\hat{\\\\phi}~mV$ & $\\\\frac{c}{c_0}$ & $\\\\hat{K}$ \\\\\\\\')\n",
    "print('\\\\hline')\n",
    "\n",
    "\n",
    "#concentration['H'] = 1e-7\n",
    "\n",
    "## Data in mM\n",
    "scale = 1e3\n",
    "K_spec = np.ones(s['n_X'])\n",
    "conc = np.ones(s['n_X'])\n",
    "c_G6P = concentration['G6P']\n",
    "#print('c_G6P',c_G6P)\n",
    "for i,spec in enumerate(s['species']):\n",
    "    if spec in concentration.keys():  \n",
    "        conc[i] = concentration[spec]/c_G6P\n",
    "        K_spec[i] = np.exp(phi_est[i]/st.V_N())/conc[i] \n",
    "        print(f'{spec} & {int(round(1e3*phi_est[i]))} &  \\t{conc[i]:.4f} & {K_spec[i]:.4f} \\\\\\\\')\n",
    "    else:\n",
    "        K_spec[i] = np.exp(phi_est[i]/st.V_N())\n",
    "#         print(f'{spec} &{phi_est[i]:.2} & -- & --\\\\\\\\')\n",
    "    \n",
    "print('\\\\hline')\n",
    "\n",
    "#print(conc)\n",
    "print(s['species'])"
   ]
  },
  {
   "cell_type": "markdown",
   "metadata": {},
   "source": [
    "# Simulation"
   ]
  },
  {
   "cell_type": "markdown",
   "metadata": {},
   "source": [
    "## Set up parameters\n",
    "\n",
    "- Reaction constants already set"
   ]
  },
  {
   "cell_type": "code",
   "execution_count": 21,
   "metadata": {},
   "outputs": [],
   "source": [
    "for i,spec in enumerate(s['species']):\n",
    "    #K_spec = np.exp(phi_est[i]/st.V_N())\n",
    "    parameter['K_'+spec] = K_spec[i]"
   ]
  },
  {
   "cell_type": "code",
   "execution_count": null,
   "metadata": {},
   "outputs": [],
   "source": []
  },
  {
   "cell_type": "markdown",
   "metadata": {},
   "source": [
    "## Set up chemostats and flowstats"
   ]
  },
  {
   "cell_type": "code",
   "execution_count": 22,
   "metadata": {},
   "outputs": [],
   "source": [
    "def setPath(s,path='R5P'):\n",
    "    \n",
    "    print('\\n Path =', path)\n",
    "    \n",
    "    if path == 'R5P':\n",
    "        chemostats = ['ADP', 'ATP', 'CO2', 'G6P', 'H', 'H2O', 'NADP', 'NADPH', 'R5P']\n",
    "        flowstats =['G6PDH2R']\n",
    "        dX_G6P = 5\n",
    "    elif path == 'NADPH':\n",
    "        chemostats = ['ADP', 'ATP', 'CO2', 'G6P', 'H', 'H2O', 'NADP', 'NADPH']\n",
    "        flowstats = []\n",
    "        dX_G6P = 1\n",
    "    elif path == 'both':\n",
    "        chemostats = ['ADP', 'ATP', 'CO2', 'G6P', 'H', 'H2O', 'NADP', 'NADPH', 'R5P']\n",
    "        flowstats =  ['PGI', 'TKT2']\n",
    "        dX_G6P = 1\n",
    "    elif path == 'all':\n",
    "        chemostats = ['ADP', 'ATP', 'CO2', 'G6P', 'H', 'H2O', 'NADP', 'NADPH', 'R5P','G3P']\n",
    "        flowstats = []\n",
    "        dX_G6P = 10\n",
    "        \n",
    "    sc = st.statify(s,chemostats=chemostats)\n",
    "    sf = st.statify(s,flowstats=flowstats)\n",
    "    \n",
    "    return sc,sf,dX_G6P\n"
   ]
  },
  {
   "cell_type": "markdown",
   "metadata": {},
   "source": [
    "## Time unit"
   ]
  },
  {
   "cell_type": "code",
   "execution_count": 43,
   "metadata": {},
   "outputs": [
    {
     "name": "stdout",
     "output_type": "stream",
     "text": [
      "Time unit: 7.95 sec\n"
     ]
    }
   ],
   "source": [
    "##t_0 = ((1000*c_G6P)/flux_PGI)*100\n",
    "print(f\"Time unit: {t_0:4.2f} sec\")"
   ]
  },
  {
   "cell_type": "markdown",
   "metadata": {},
   "source": [
    "## Simulation"
   ]
  },
  {
   "cell_type": "code",
   "execution_count": 24,
   "metadata": {
    "scrolled": false
   },
   "outputs": [
    {
     "name": "stdout",
     "output_type": "stream",
     "text": [
      "\n",
      " Path = all\n"
     ]
    },
    {
     "data": {
      "image/png": "[encoded data removed]",
      "text/plain": [
       "<Figure size 432x288 with 1 Axes>"
      ]
     },
     "metadata": {
      "needs_background": "light"
     },
     "output_type": "display_data"
    },
    {
     "name": "stdout",
     "output_type": "stream",
     "text": [
      "G6P:\t-71.1 \t-71.1\t-10.0\t-100.0%\n",
      "R5P:\t6.2 \t6.2\t0.9\t8.7%\n",
      "NADPH:\t23.2 \t23.2\t3.3\t32.6%\n",
      "ADP:\t63.1 \t63.1\t8.9\t88.8%\n",
      "CO2:\t11.6 \t11.6\t1.6\t16.3%\n",
      "H:\t86.3 \t86.3\t12.1\t121.3%\n",
      "H2O:\t-11.6 \t-11.6\t-1.6\t-16.3%\n",
      "\n",
      " Path = both\n"
     ]
    },
    {
     "data": {
      "image/png": "[encoded data removed]",
      "text/plain": [
       "<Figure size 432x288 with 1 Axes>"
      ]
     },
     "metadata": {
      "needs_background": "light"
     },
     "output_type": "display_data"
    },
    {
     "name": "stdout",
     "output_type": "stream",
     "text": [
      "G6P:\t-11.6 \t-11.6\t-1.0\t-100.0%\n",
      "R5P:\t6.2 \t11.5\t1.0\t99.4%\n",
      "NADPH:\t23.2 \t23.2\t2.0\t200.0%\n",
      "ADP:\t63.1 \t0.0\t0.0\t0.4%\n",
      "CO2:\t11.6 \t11.6\t1.0\t100.0%\n",
      "H:\t86.3 \t23.2\t2.0\t200.4%\n",
      "H2O:\t-11.6 \t-11.6\t-1.0\t-100.0%\n",
      "\n",
      " Path = R5P\n"
     ]
    },
    {
     "data": {
      "image/png": "[encoded data removed]",
      "text/plain": [
       "<Figure size 432x288 with 1 Axes>"
      ]
     },
     "metadata": {
      "needs_background": "light"
     },
     "output_type": "display_data"
    },
    {
     "name": "stdout",
     "output_type": "stream",
     "text": [
      "G6P:\t-59.5 \t-2.4\t-5.0\t-100.0%\n",
      "R5P:\t6.2 \t2.9\t6.0\t120.0%\n",
      "NADPH:\t11.6 \t0.0\t0.0\t0.2%\n",
      "ADP:\t63.1 \t0.5\t1.0\t20.0%\n",
      "CO2:\t11.6 \t0.0\t0.0\t0.1%\n",
      "H:\t74.7 \t0.5\t1.0\t20.2%\n",
      "H2O:\t-11.6 \t-0.0\t-0.0\t-0.1%\n",
      "\n",
      " Path = NADPH\n"
     ]
    },
    {
     "data": {
      "image/png": "[encoded data removed]",
      "text/plain": [
       "<Figure size 432x288 with 1 Axes>"
      ]
     },
     "metadata": {
      "needs_background": "light"
     },
     "output_type": "display_data"
    },
    {
     "name": "stdout",
     "output_type": "stream",
     "text": [
      "G6P:\t-71.1 \t-1.9\t-1.0\t-100.0%\n",
      "R5P:\t6.2 \t0.0\t0.0\t0.0%\n",
      "NADPH:\t23.2 \t23.1\t12.0\t1200.0%\n",
      "ADP:\t63.1 \t-1.9\t-1.0\t-100.0%\n",
      "CO2:\t11.6 \t11.6\t6.0\t600.0%\n",
      "H:\t86.3 \t21.2\t11.0\t1100.0%\n",
      "H2O:\t-11.6 \t-11.6\t-6.0\t-600.0%\n"
     ]
    }
   ],
   "source": [
    "approximateFlowstats = True\n",
    "\n",
    "Spec = ['G6P','R5P','NADPH','ADP','CO2','H','H2O']\n",
    "paths = ['all','both','R5P','NADPH']\n",
    "#paths = ['R5P']\n",
    "RATIO = {}\n",
    "for path in paths:\n",
    "    Ratio = {}\n",
    "    normalisedRatio = {}\n",
    " \n",
    "    ## Set up pathway]\n",
    "    spec = sc['species']\n",
    "    sc,sf,dX_G6P_0 = setPath(s,path=path)\n",
    "    \n",
    "    ## Set up parameters\n",
    "    par = copy.copy(parameter)\n",
    "    if approximateFlowstats:\n",
    "        small = 1e-3\n",
    "        par = copy.copy(parameter)\n",
    "        for fs in sf['flowstats']:\n",
    "            par['kappa_'+fs] = small\n",
    "        sf = None\n",
    "        \n",
    "    ## Simulate\n",
    "    t = np.linspace(0,3*t_0,1000)\n",
    "    \n",
    "#     ## Find steady-state with no flowstats \n",
    "#     dat_ss = st.sim(s,sc=sc,sf=sf,t=t,parameter=parameter,X0=conc)\n",
    "#     X_ss = dat_ss['X'][-1,:]\n",
    "    \n",
    "    dat = st.sim(s,sc=sc,sf=sf,t=t,parameter=par,X0=conc)\n",
    "    #st.plot(s,dat,species=[])\n",
    "    st.plot(s,dat,reaction=[],species=Spec,dX=True)\n",
    "    \n",
    "    ## Extract some external flows\n",
    "    DX = dat['dX']\n",
    "    dX = {}\n",
    "    for Sp in Spec:\n",
    "        dX[Sp] = DX[:,spec.index(Sp)]\n",
    "        Ratio[Sp] = -dX[Sp]/dX['G6P']\n",
    "        normalisedRatio[Sp] =  -dX_G6P_0*dX[Sp]/dX['G6P'] \n",
    "        \n",
    "    RATIO[path] = normalisedRatio\n",
    "    \n",
    "    ## Print steady-state values\n",
    "    for Sp in Spec:\n",
    "        ratio = Ratio[Sp][-1]\n",
    "        print(f'{Sp}:\\t{dX[Sp][0]:3.1f} \\t{dX[Sp][-1]:3.1f}\\t{(dX_G6P_0*ratio):3.1f}\\t{100*ratio:3.1f}%')\n",
    "    "
   ]
  },
  {
   "cell_type": "code",
   "execution_count": 25,
   "metadata": {},
   "outputs": [
    {
     "data": {
      "text/plain": [
       "[<matplotlib.lines.Line2D at 0x7fc620edcfd0>]"
      ]
     },
     "execution_count": 25,
     "metadata": {},
     "output_type": "execute_result"
    },
    {
     "data": {
      "text/plain": [
       "[<matplotlib.lines.Line2D at 0x7fc620f28250>]"
      ]
     },
     "execution_count": 25,
     "metadata": {},
     "output_type": "execute_result"
    },
    {
     "data": {
      "text/plain": [
       "[<matplotlib.lines.Line2D at 0x7fc620ee74f0>]"
      ]
     },
     "execution_count": 25,
     "metadata": {},
     "output_type": "execute_result"
    },
    {
     "data": {
      "text/plain": [
       "(0.0, 8.0)"
      ]
     },
     "execution_count": 25,
     "metadata": {},
     "output_type": "execute_result"
    },
    {
     "data": {
      "text/plain": [
       "Text(0, 0.5, '$\\\\rho_{R5P}$')"
      ]
     },
     "execution_count": 25,
     "metadata": {},
     "output_type": "execute_result"
    },
    {
     "data": {
      "text/plain": [
       "Text(0.5, 0, '$t/t_0$')"
      ]
     },
     "execution_count": 25,
     "metadata": {},
     "output_type": "execute_result"
    },
    {
     "data": {
      "text/plain": [
       "<matplotlib.legend.Legend at 0x7fc6418b8a90>"
      ]
     },
     "execution_count": 25,
     "metadata": {},
     "output_type": "execute_result"
    },
    {
     "data": {
      "image/png": "[encoded data removed]",
      "text/plain": [
       "<Figure size 432x288 with 1 Axes>"
      ]
     },
     "metadata": {
      "needs_background": "light"
     },
     "output_type": "display_data"
    },
    {
     "data": {
      "text/plain": [
       "[<matplotlib.lines.Line2D at 0x7fc620c53d90>]"
      ]
     },
     "execution_count": 25,
     "metadata": {},
     "output_type": "execute_result"
    },
    {
     "data": {
      "text/plain": [
       "[<matplotlib.lines.Line2D at 0x7fc620eadfa0>]"
      ]
     },
     "execution_count": 25,
     "metadata": {},
     "output_type": "execute_result"
    },
    {
     "data": {
      "text/plain": [
       "[<matplotlib.lines.Line2D at 0x7fc620c6b3d0>]"
      ]
     },
     "execution_count": 25,
     "metadata": {},
     "output_type": "execute_result"
    },
    {
     "data": {
      "text/plain": [
       "(0.0, 15.0)"
      ]
     },
     "execution_count": 25,
     "metadata": {},
     "output_type": "execute_result"
    },
    {
     "data": {
      "text/plain": [
       "Text(0, 0.5, '$\\\\rho_{NADPH}$')"
      ]
     },
     "execution_count": 25,
     "metadata": {},
     "output_type": "execute_result"
    },
    {
     "data": {
      "text/plain": [
       "Text(0.5, 0, '$t/t_0$')"
      ]
     },
     "execution_count": 25,
     "metadata": {},
     "output_type": "execute_result"
    },
    {
     "data": {
      "text/plain": [
       "<matplotlib.legend.Legend at 0x7fc620bd5400>"
      ]
     },
     "execution_count": 25,
     "metadata": {},
     "output_type": "execute_result"
    },
    {
     "data": {
      "image/png": "[encoded data removed]",
      "text/plain": [
       "<Figure size 432x288 with 1 Axes>"
      ]
     },
     "metadata": {
      "needs_background": "light"
     },
     "output_type": "display_data"
    }
   ],
   "source": [
    "## Plot ratios\n",
    "name = ['i','ii','iii']\n",
    "for sp in ['R5P','NADPH']: \n",
    "    BigFont = 24\n",
    "    plt.rcParams.update({'font.size': BigFont})\n",
    "    for i,path in enumerate(['both','R5P','NADPH']):\n",
    "        Ratio = RATIO[path]\n",
    "        label = f'Path {name[i]}'\n",
    "        plt.plot(t/t_0,Ratio[sp],label=label,linewidth=5)\n",
    "    if sp=='R5P':\n",
    "        ylim = 8\n",
    "    else:\n",
    "        ylim=15\n",
    "    plt.ylim((0,ylim))\n",
    "    ylabel = r'$\\rho_{'+sp+'}$'\n",
    "    plt.ylabel(ylabel)\n",
    "    plt.xlabel('$t/t_0$')\n",
    "    plt.legend()\n",
    "    plt.grid()\n",
    "    plt.savefig(f'Figs/{sp}.pdf',bbox_inches='tight')\n",
    "\n",
    "    plt.show()"
   ]
  },
  {
   "cell_type": "code",
   "execution_count": 26,
   "metadata": {},
   "outputs": [
    {
     "name": "stdout",
     "output_type": "stream",
     "text": [
      "[1 2 3]\n",
      "[1 2 3]\n",
      "[[1 2 3]\n",
      " [2 4 6]\n",
      " [3 6 9]]\n",
      "[[0.00510204 0.01020408 0.01530612]\n",
      " [0.01020408 0.02040816 0.03061224]\n",
      " [0.01530612 0.03061224 0.04591837]]\n",
      "[0.07142857 0.14285714 0.21428571]\n",
      "14\n"
     ]
    }
   ],
   "source": [
    "X = np.array([1,2,3])\n",
    "print(X)\n",
    "print(X.T)\n",
    "print(np.outer(X,X))\n",
    "print(np.linalg.pinv(np.outer(X,X)))\n",
    "print(np.linalg.pinv(np.outer(X,X))@X.T)\n",
    "print(X@X.T)"
   ]
  },
  {
   "cell_type": "markdown",
   "metadata": {},
   "source": [
    "# Michaelis-Menten formulation\n",
    "## Show results"
   ]
  },
  {
   "cell_type": "code",
   "execution_count": 27,
   "metadata": {},
   "outputs": [
    {
     "name": "stdout",
     "output_type": "stream",
     "text": [
      "Reaction PGI:\n",
      "f_max = 132.87; rho = 0.20; k_v = 0.10\n",
      "kappa_1 = 664.4; kappa_2 = 166.1; K_C = 1.0; K_E = 10.0\n",
      "Reaction PFK:\n",
      "f_max =  61.18; rho = 0.20; k_v = 0.10\n",
      "kappa_1 = 305.9; kappa_2 = 76.5; K_C = 1.0; K_E = 10.0\n",
      "Reaction FBA:\n",
      "f_max = 123.18; rho = 0.20; k_v = 0.10\n",
      "kappa_1 = 615.9; kappa_2 = 154.0; K_C = 1.0; K_E = 10.0\n",
      "Reaction TPI:\n",
      "f_max = 267.28; rho = 0.20; k_v = 0.10\n",
      "kappa_1 = 1336.4; kappa_2 = 334.1; K_C = 1.0; K_E = 10.0\n",
      "Reaction GND:\n",
      "f_max =   9.55; rho = 0.20; k_v = 0.10\n",
      "kappa_1 = 47.8; kappa_2 = 11.9; K_C = 1.0; K_E = 10.0\n",
      "Reaction RPI:\n",
      "f_max = 5570.71; rho = 0.20; k_v = 0.10\n",
      "kappa_1 = 27853.5; kappa_2 = 6963.4; K_C = 1.0; K_E = 10.0\n",
      "Reaction TKT2:\n",
      "f_max =   4.48; rho = 0.20; k_v = 0.10\n",
      "kappa_1 = 22.4; kappa_2 = 5.6; K_C = 1.0; K_E = 10.0\n",
      "Reaction TKT1:\n",
      "f_max =  13.32; rho = 0.20; k_v = 0.10\n",
      "kappa_1 = 66.6; kappa_2 = 16.7; K_C = 1.0; K_E = 10.0\n",
      "Reaction RPE:\n",
      "f_max = 126.53; rho = 0.20; k_v = 0.10\n",
      "kappa_1 = 632.7; kappa_2 = 158.2; K_C = 1.0; K_E = 10.0\n"
     ]
    }
   ],
   "source": [
    "for reac in reaction:\n",
    "    MMpar = MMparameter[reac]\n",
    "    f_max = MMpar['f_max']\n",
    "    rho = MMpar['rho']\n",
    "    k_v = MMpar['k_v']\n",
    "    print(f'Reaction {reac}:')\n",
    "    print(f'f_max = {f_max:6.2f}; rho = {rho:1.2f}; k_v = {k_v:4.2f}')\n",
    "    kappa,K_CE = MMtoBG(MMpar,K_E=K_E)\n",
    "    print(f'kappa_1 = {kappa[0]:3.1f}; kappa_2 = {kappa[1]:3.1f}; K_C = {K_CE[0]:3.1f}; K_E = {K_CE[1]:3.1f}')\n",
    "    "
   ]
  },
  {
   "cell_type": "markdown",
   "metadata": {},
   "source": [
    "## Bond graph model of Enzyme Catalysed Reaction (RE)"
   ]
  },
  {
   "cell_type": "code",
   "execution_count": 28,
   "metadata": {},
   "outputs": [
    {
     "data": {
      "image/svg+xml": [
       "<svg xmlns=\"http://www.w3.org/2000/svg\" xmlns:xlink=\"http://www.w3.org/1999/xlink\" width=\"460pt\" height=\"234pt\" viewBox=\"406 -1275 7287 3714\">\n",
       "<g fill=\"none\">\n",
       "<!-- Text -->\n",
       "<g transform=\"translate(2835,2025) rotate(-270)\">\n",
       "<text xml:space=\"preserve\" x=\"0\" y=\"0\" fill=\"#000000\" font-family=\"Helvetica\" font-style=\"normal\" font-weight=\"bold\" font-size=\"216\" text-anchor=\"middle\">Re:r1</text>\n",
       "</g><!-- Text -->\n",
       "<g transform=\"translate(5085,2025) rotate(-270)\">\n",
       "<text xml:space=\"preserve\" x=\"0\" y=\"0\" fill=\"#000000\" font-family=\"Helvetica\" font-style=\"normal\" font-weight=\"bold\" font-size=\"216\" text-anchor=\"middle\">Re:r2</text>\n",
       "</g><!-- Text -->\n",
       "<text xml:space=\"preserve\" x=\"675\" y=\"990\" fill=\"#000000\" font-family=\"Helvetica\" font-style=\"normal\" font-weight=\"bold\" font-size=\"216\" text-anchor=\"middle\">Ce:A</text>\n",
       "<!-- Text -->\n",
       "<text xml:space=\"preserve\" x=\"1800\" y=\"2115\" fill=\"#000000\" font-family=\"Helvetica\" font-style=\"normal\" font-weight=\"bold\" font-size=\"216\" text-anchor=\"middle\">1</text>\n",
       "<!-- Text -->\n",
       "<text xml:space=\"preserve\" x=\"675\" y=\"2115\" fill=\"#000000\" font-family=\"Helvetica\" font-style=\"normal\" font-weight=\"bold\" font-size=\"216\" text-anchor=\"middle\">0</text>\n",
       "<!-- Text -->\n",
       "<text xml:space=\"preserve\" x=\"4050\" y=\"-1035\" fill=\"#000000\" font-family=\"Helvetica\" font-style=\"normal\" font-weight=\"bold\" font-size=\"216\" text-anchor=\"middle\">Ce:E</text>\n",
       "<!-- Text -->\n",
       "<text xml:space=\"preserve\" x=\"4050\" y=\"90\" fill=\"#000000\" font-family=\"Helvetica\" font-style=\"normal\" font-weight=\"bold\" font-size=\"216\" text-anchor=\"middle\">0</text>\n",
       "<!-- Text -->\n",
       "<text xml:space=\"preserve\" x=\"4050\" y=\"2115\" fill=\"#000000\" font-family=\"Helvetica\" font-style=\"normal\" font-weight=\"bold\" font-size=\"216\" text-anchor=\"middle\">0</text>\n",
       "<!-- Text -->\n",
       "<text xml:space=\"preserve\" x=\"4050\" y=\"990\" fill=\"#000000\" font-family=\"Helvetica\" font-style=\"normal\" font-weight=\"bold\" font-size=\"216\" text-anchor=\"middle\">Ce:C</text>\n",
       "<!-- Text -->\n",
       "<text xml:space=\"preserve\" x=\"7425\" y=\"990\" fill=\"#000000\" font-family=\"Helvetica\" font-style=\"normal\" font-weight=\"bold\" font-size=\"216\" text-anchor=\"middle\">Ce:B</text>\n",
       "<!-- Text -->\n",
       "<text xml:space=\"preserve\" x=\"7425\" y=\"2115\" fill=\"#000000\" font-family=\"Helvetica\" font-style=\"normal\" font-weight=\"bold\" font-size=\"216\" text-anchor=\"middle\">0</text>\n",
       "<!-- Text -->\n",
       "<text xml:space=\"preserve\" x=\"6300\" y=\"2115\" fill=\"#000000\" font-family=\"Helvetica\" font-style=\"normal\" font-weight=\"bold\" font-size=\"216\" text-anchor=\"middle\">1</text>\n",
       "<!-- Line -->\n",
       "<polyline points=\" 6075,1800 4275,0 4275,225\" stroke=\"#000000\" stroke-width=\"15px\"/>\n",
       "<!-- Line -->\n",
       "<polyline points=\" 3825,0 2025,1800 2250,1800\" stroke=\"#000000\" stroke-width=\"15px\"/>\n",
       "<!-- Line -->\n",
       "<polyline points=\" 900,2025 1575,2025 1350,2250\" stroke=\"#000000\" stroke-width=\"15px\"/>\n",
       "<!-- Line -->\n",
       "<polyline points=\" 6525,2025 7200,2025 6975,2250\" stroke=\"#000000\" stroke-width=\"15px\"/>\n",
       "<!-- Line -->\n",
       "<polyline points=\" 675,1800 675,1125 900,1350\" stroke=\"#000000\" stroke-width=\"15px\"/>\n",
       "<!-- Line -->\n",
       "<polyline points=\" 4050,-225 4050,-900 4275,-675\" stroke=\"#000000\" stroke-width=\"15px\"/>\n",
       "<!-- Line -->\n",
       "<polyline points=\" 4050,1800 4050,1125 4275,1350\" stroke=\"#000000\" stroke-width=\"15px\"/>\n",
       "<!-- Line -->\n",
       "<polyline points=\" 7425,1800 7425,1125 7650,1350\" stroke=\"#000000\" stroke-width=\"15px\"/>\n",
       "<!-- Line -->\n",
       "<polyline points=\" 3150,2025 3825,2025 3600,2250\" stroke=\"#000000\" stroke-width=\"15px\"/>\n",
       "<!-- Line -->\n",
       "<polyline points=\" 4275,2025 4950,2025 4725,2250\" stroke=\"#000000\" stroke-width=\"15px\"/>\n",
       "<!-- Line -->\n",
       "<polyline points=\" 5400,2025 6075,2025 5850,2250\" stroke=\"#000000\" stroke-width=\"15px\"/>\n",
       "<!-- Line -->\n",
       "<polyline points=\" 2025,2025 2700,2025 2475,2250\" stroke=\"#000000\" stroke-width=\"15px\"/>\n",
       "</g>\n",
       "</svg>"
      ],
      "text/plain": [
       "<IPython.core.display.SVG object>"
      ]
     },
     "execution_count": 28,
     "metadata": {},
     "output_type": "execute_result"
    }
   ],
   "source": [
    "sbg.model('RE_abg.svg')\n",
    "import RE_abg as RE\n",
    "disp.SVG('RE_abg.svg')"
   ]
  },
  {
   "cell_type": "code",
   "execution_count": 29,
   "metadata": {},
   "outputs": [
    {
     "data": {
      "text/latex": [
       "\\begin{align}\n",
       "\\ch{A + E & <> [ r1 ] C }\\\\\n",
       "\\ch{C & <> [ r2 ] B + E }\n",
       "\\end{align}\n"
      ],
      "text/plain": [
       "<IPython.core.display.Latex object>"
      ]
     },
     "execution_count": 29,
     "metadata": {},
     "output_type": "execute_result"
    }
   ],
   "source": [
    "sRE = st.stoich(RE.model(),quiet=quiet)\n",
    "disp.Latex(st.sprintrl(sRE,chemformula=True))"
   ]
  },
  {
   "cell_type": "code",
   "execution_count": 30,
   "metadata": {},
   "outputs": [
    {
     "data": {
      "text/latex": [
       "\\begin{align}\n",
       "\\ch{G6P & <> [ PGI ] F6P }\\\\\n",
       "\\ch{ATP + F6P & <> [ PFK ] ADP + FDP + H }\\\\\n",
       "\\ch{FDP & <> [ FBA ] DHAP + G3P }\\\\\n",
       "\\ch{DHAP & <> [ TPI ] G3P }\\\\\n",
       "\\ch{G6P + NADP & <> [ G6PDH2R ] 6PGL + H + NADPH }\\\\\n",
       "\\ch{6PGL + H2O & <> [ PGL ] 6PGC + H }\\\\\n",
       "\\ch{6PGC + NADP & <> [ GND ] CO2 + NADPH + RU5PD }\\\\\n",
       "\\ch{RU5PD & <> [ RPI ] R5P }\\\\\n",
       "\\ch{E4P + XU5PD & <> [ TKT2 ] F6P + G3P }\\\\\n",
       "\\ch{G3P + S7P & <> [ TALA ] E4P + F6P }\n",
       "\\end{align}\n",
       "\n",
       "\\begin{align}\n",
       "\\ch{R5P + XU5PD & <> [ TKT1 ] G3P + S7P }\\\\\n",
       "\\ch{RU5PD & <> [ RPE ] XU5PD }\n",
       "\\end{align}\n"
      ],
      "text/plain": [
       "<IPython.core.display.Latex object>"
      ]
     },
     "execution_count": 30,
     "metadata": {},
     "output_type": "execute_result"
    }
   ],
   "source": [
    "stbg.model(s,filename='PPP_abg')\n",
    "import PPP_abg\n",
    "PPP = PPP_abg.model()\n",
    "disp.Latex(st.sprintrl(s,chemformula=True))"
   ]
  },
  {
   "cell_type": "markdown",
   "metadata": {},
   "source": [
    "## Replace Re components by RE"
   ]
  },
  {
   "cell_type": "code",
   "execution_count": 31,
   "metadata": {},
   "outputs": [
    {
     "data": {
      "text/plain": [
       "<module 'modularBondGraph' from '/home/peterg/WORK/Research/SystemsBiology/lib/python/modularBondGraph.py'>"
      ]
     },
     "execution_count": 31,
     "metadata": {},
     "output_type": "execute_result"
    }
   ],
   "source": [
    "imp.reload(mbg)\n",
    "mbg.ReRE(PPP,quiet=quiet)"
   ]
  },
  {
   "cell_type": "code",
   "execution_count": 32,
   "metadata": {},
   "outputs": [],
   "source": [
    "sPPPRE = st.stoich(PPP,quiet=quiet)"
   ]
  },
  {
   "cell_type": "code",
   "execution_count": null,
   "metadata": {},
   "outputs": [],
   "source": []
  },
  {
   "cell_type": "code",
   "execution_count": 33,
   "metadata": {},
   "outputs": [
    {
     "data": {
      "text/latex": [
       "\\begin{align}\n",
       "\\ch{G6P + PGIase & <> [ PGI1 ] PGIcmp }\\\\\n",
       "\\ch{PGIcmp & <> [ PGI2 ] F6P + PGIase }\\\\\n",
       "\\ch{ATP + F6P + PFKase & <> [ PFK1 ] PFKcmp }\\\\\n",
       "\\ch{PFKcmp & <> [ PFK2 ] ADP + FDP + H + PFKase }\\\\\n",
       "\\ch{FDP + FBAase & <> [ FBA1 ] FBAcmp }\\\\\n",
       "\\ch{FBAcmp & <> [ FBA2 ] DHAP + G3P + FBAase }\\\\\n",
       "\\ch{DHAP + TPIase & <> [ TPI1 ] TPIcmp }\\\\\n",
       "\\ch{TPIcmp & <> [ TPI2 ] G3P + TPIase }\\\\\n",
       "\\ch{G6P + NADP + G6PDH2Rase & <> [ G6PDH2R1 ] G6PDH2Rcmp }\\\\\n",
       "\\ch{G6PDH2Rcmp & <> [ G6PDH2R2 ] 6PGL + H + NADPH + G6PDH2Rase }\n",
       "\\end{align}\n",
       "\n",
       "\\begin{align}\n",
       "\\ch{6PGL + H2O + PGLase & <> [ PGL1 ] PGLcmp }\\\\\n",
       "\\ch{PGLcmp & <> [ PGL2 ] 6PGC + H + PGLase }\\\\\n",
       "\\ch{6PGC + NADP + GNDase & <> [ GND1 ] GNDcmp }\\\\\n",
       "\\ch{GNDcmp & <> [ GND2 ] CO2 + NADPH + RU5PD + GNDase }\\\\\n",
       "\\ch{RU5PD + RPIase & <> [ RPI1 ] RPIcmp }\\\\\n",
       "\\ch{RPIcmp & <> [ RPI2 ] R5P + RPIase }\\\\\n",
       "\\ch{E4P + XU5PD + TKT2ase & <> [ TKT21 ] TKT2cmp }\\\\\n",
       "\\ch{TKT2cmp & <> [ TKT22 ] F6P + G3P + TKT2ase }\\\\\n",
       "\\ch{G3P + S7P + TALAase & <> [ TALA1 ] TALAcmp }\\\\\n",
       "\\ch{TALAcmp & <> [ TALA2 ] E4P + F6P + TALAase }\n",
       "\\end{align}\n",
       "\n",
       "\\begin{align}\n",
       "\\ch{R5P + XU5PD + TKT1ase & <> [ TKT11 ] TKT1cmp }\\\\\n",
       "\\ch{TKT1cmp & <> [ TKT12 ] G3P + S7P + TKT1ase }\\\\\n",
       "\\ch{RU5PD + RPEase & <> [ RPE1 ] RPEcmp }\\\\\n",
       "\\ch{RPEcmp & <> [ RPE2 ] XU5PD + RPEase }\n",
       "\\end{align}\n"
      ],
      "text/plain": [
       "<IPython.core.display.Latex object>"
      ]
     },
     "execution_count": 33,
     "metadata": {},
     "output_type": "execute_result"
    }
   ],
   "source": [
    "disp.Latex(st.sprintrl(sPPPRE,chemformula=True))"
   ]
  },
  {
   "cell_type": "code",
   "execution_count": 34,
   "metadata": {},
   "outputs": [
    {
     "name": "stdout",
     "output_type": "stream",
     "text": [
      "['ADP', 'ATP', 'CO2', 'G3P', 'G6P', 'H', 'H2O', 'NADP', 'NADPH', 'R5P']\n"
     ]
    }
   ],
   "source": [
    "print(chemostats)"
   ]
  },
  {
   "cell_type": "code",
   "execution_count": 35,
   "metadata": {},
   "outputs": [],
   "source": [
    "scPPPRE = st.statify(sPPPRE,chemostats=chemostats)"
   ]
  },
  {
   "cell_type": "markdown",
   "metadata": {},
   "source": [
    "## Set up parameters"
   ]
  },
  {
   "cell_type": "code",
   "execution_count": 36,
   "metadata": {},
   "outputs": [],
   "source": [
    "parameter = {}\n",
    "for i,spec in enumerate(s['species']):\n",
    "    parameter['K_'+spec] = K_spec[i]\n",
    "    \n",
    "for reac in reaction:\n",
    "    MMpar = MMparameter[reac]\n",
    "    kappa,K_CE = MMtoBG(MMpar,K_E=100.0)\n",
    "    for i in ['1','2']:\n",
    "        Kappa = f'kappa_{reac}{i}'\n",
    "        parameter[Kappa] = kappa[int(i)-1]\n",
    "    for i,spec in enumerate(['cmp','ase']):\n",
    "        K = f'K_{reac}{spec}'\n",
    "        parameter[K] = K_CE[i]\n",
    "        \n",
    "# print(parameter)        "
   ]
  },
  {
   "cell_type": "code",
   "execution_count": 37,
   "metadata": {},
   "outputs": [],
   "source": [
    "## Initial conds\n",
    "n_X = sPPPRE['n_X']\n",
    "X0 = 0.5*np.ones(n_X)\n",
    "for i,spec in enumerate(sPPPRE['species']):\n",
    "    if spec in s['species']:\n",
    "        X0[i] = conc[s['species'].index(spec)]"
   ]
  },
  {
   "cell_type": "markdown",
   "metadata": {},
   "source": [
    "## Simulate"
   ]
  },
  {
   "cell_type": "code",
   "execution_count": 38,
   "metadata": {
    "scrolled": false
   },
   "outputs": [
    {
     "name": "stdout",
     "output_type": "stream",
     "text": [
      "\n",
      " Path = all\n",
      "G6P:\t-63.8 \t-62.5\t-10.0\t-100.0%\n",
      "R5P:\t0.8 \t-0.7\t-0.1\t-1.0%\n",
      "NADPH:\t2.3 \t1.0\t0.2\t1.6%\n",
      "ADP:\t62.8 \t62.8\t10.0\t100.4%\n",
      "CO2:\t1.8 \t0.5\t0.1\t0.8%\n",
      "H:\t63.7 \t63.7\t10.2\t102.0%\n",
      "H2O:\t-0.1 \t-0.5\t-0.1\t-0.8%\n",
      "\n",
      " Path = both\n",
      "Flowstat PGI is not a model reaction\n",
      "Flowstat TKT2 is not a model reaction\n",
      "G6P:\t-0.7 \t-0.5\t-1.0\t-100.0%\n",
      "R5P:\t1.5 \t0.5\t0.9\t92.9%\n",
      "NADPH:\t2.3 \t1.0\t2.0\t197.1%\n",
      "ADP:\t53.3 \t0.0\t0.0\t4.7%\n",
      "CO2:\t1.8 \t0.5\t1.0\t98.2%\n",
      "H:\t54.2 \t1.0\t2.0\t201.8%\n",
      "H2O:\t-0.1 \t-0.5\t-1.0\t-98.3%\n",
      "\n",
      " Path = R5P\n",
      "Flowstat G6PDH2R is not a model reaction\n",
      "G6P:\t-55.7 \t-0.4\t-5.0\t-100.0%\n",
      "R5P:\t1.5 \t0.4\t6.0\t119.9%\n",
      "NADPH:\t1.8 \t0.0\t0.0\t0.3%\n",
      "ADP:\t53.3 \t0.1\t1.0\t20.0%\n",
      "CO2:\t1.8 \t0.0\t0.0\t0.2%\n",
      "H:\t53.8 \t0.1\t1.0\t20.3%\n",
      "H2O:\t-0.1 \t-0.0\t-0.0\t-0.2%\n",
      "\n",
      " Path = NADPH\n",
      "G6P:\t-56.9 \t-0.1\t-1.0\t-100.0%\n",
      "R5P:\t0.1 \t0.0\t0.0\t0.0%\n",
      "NADPH:\t3.7 \t1.0\t11.6\t1155.1%\n",
      "ADP:\t53.2 \t-0.1\t-1.0\t-95.7%\n",
      "CO2:\t3.3 \t0.5\t5.8\t575.7%\n",
      "H:\t54.2 \t0.9\t10.6\t1059.4%\n",
      "H2O:\t-0.1 \t-0.5\t-5.8\t-576.2%\n"
     ]
    }
   ],
   "source": [
    "approximateFlowstats = True\n",
    "\n",
    "Spec = ['G6P','R5P','NADPH','ADP','CO2','H','H2O']\n",
    "paths = ['all','both','R5P','NADPH']\n",
    "#paths = ['R5P']\n",
    "RATIO = {}\n",
    "for path in paths:\n",
    "    Ratio = {}\n",
    "    normalisedRatio = {}\n",
    " \n",
    "    ## Set up pathway]\n",
    "    spec = sPPPRE['species']\n",
    "    sc,sf,dX_G6P_0 = setPath(sPPPRE,path=path)\n",
    "    \n",
    "    ## Set up parameters\n",
    "    par = copy.copy(parameter)\n",
    "    if approximateFlowstats:\n",
    "        small = 1e-3\n",
    "        par = copy.copy(parameter)\n",
    "        for fs in sf['flowstats']:\n",
    "            par['kappa_'+fs+'1'] = small\n",
    "            par['kappa_'+fs+'2'] = small\n",
    "        sf = None\n",
    "        \n",
    "    ## Find the initial condion X_ss after the initial transient due to E/C\n",
    "    t_ss = np.linspace(0,t_0/100,100)\n",
    "    dat_ss = st.sim(sPPPRE,sc=sc,t=t_ss,parameter=parameter,X0=X0)\n",
    "    X_ss = dat_ss['X'][-1,:]\n",
    "    \n",
    "    ## Simulate from after transient\n",
    "    dat = st.sim(sPPPRE,sc=sc,t=t,parameter=par,X0=X_ss)\n",
    "#     st.plot(s,dat,reaction=[],species=Spec,dX=True)\n",
    "    \n",
    "    ## Extract some external flows\n",
    "    DX = dat['dX']\n",
    "    dX = {}\n",
    "    for Sp in Spec:\n",
    "        dX[Sp] = DX[:,spec.index(Sp)]\n",
    "        Ratio[Sp] = -dX[Sp]/dX['G6P']\n",
    "        normalisedRatio[Sp] =  -dX_G6P_0*dX[Sp]/dX['G6P'] \n",
    "        \n",
    "    RATIO[path] = normalisedRatio\n",
    "    \n",
    "    ## Print steady-state values\n",
    "    for Sp in Spec:\n",
    "        ratio = Ratio[Sp][-1]\n",
    "        print(f'{Sp}:\\t{dX[Sp][0]:3.1f} \\t{dX[Sp][-1]:3.1f}\\t{(dX_G6P_0*ratio):3.1f}\\t{100*ratio:3.1f}%')\n",
    "    "
   ]
  },
  {
   "cell_type": "markdown",
   "metadata": {},
   "source": [
    "## Plot ratios"
   ]
  },
  {
   "cell_type": "code",
   "execution_count": 39,
   "metadata": {},
   "outputs": [
    {
     "data": {
      "text/plain": [
       "[<matplotlib.lines.Line2D at 0x7fc62100d460>]"
      ]
     },
     "execution_count": 39,
     "metadata": {},
     "output_type": "execute_result"
    },
    {
     "data": {
      "text/plain": [
       "[<matplotlib.lines.Line2D at 0x7fc6418d8fd0>]"
      ]
     },
     "execution_count": 39,
     "metadata": {},
     "output_type": "execute_result"
    },
    {
     "data": {
      "text/plain": [
       "[<matplotlib.lines.Line2D at 0x7fc6418d8490>]"
      ]
     },
     "execution_count": 39,
     "metadata": {},
     "output_type": "execute_result"
    },
    {
     "data": {
      "text/plain": [
       "Text(0, 0.5, '$\\\\rho_{R5P}$')"
      ]
     },
     "execution_count": 39,
     "metadata": {},
     "output_type": "execute_result"
    },
    {
     "data": {
      "text/plain": [
       "Text(0.5, 0, '$t/t_0$')"
      ]
     },
     "execution_count": 39,
     "metadata": {},
     "output_type": "execute_result"
    },
    {
     "data": {
      "text/plain": [
       "<matplotlib.legend.Legend at 0x7fc620ee7280>"
      ]
     },
     "execution_count": 39,
     "metadata": {},
     "output_type": "execute_result"
    },
    {
     "data": {
      "text/plain": [
       "(0.0, 8.0)"
      ]
     },
     "execution_count": 39,
     "metadata": {},
     "output_type": "execute_result"
    },
    {
     "data": {
      "image/png": "[encoded data removed]",
      "text/plain": [
       "<Figure size 432x288 with 1 Axes>"
      ]
     },
     "metadata": {
      "needs_background": "light"
     },
     "output_type": "display_data"
    },
    {
     "data": {
      "text/plain": [
       "[<matplotlib.lines.Line2D at 0x7fc641da0b80>]"
      ]
     },
     "execution_count": 39,
     "metadata": {},
     "output_type": "execute_result"
    },
    {
     "data": {
      "text/plain": [
       "[<matplotlib.lines.Line2D at 0x7fc641da0f70>]"
      ]
     },
     "execution_count": 39,
     "metadata": {},
     "output_type": "execute_result"
    },
    {
     "data": {
      "text/plain": [
       "[<matplotlib.lines.Line2D at 0x7fc641da0700>]"
      ]
     },
     "execution_count": 39,
     "metadata": {},
     "output_type": "execute_result"
    },
    {
     "data": {
      "text/plain": [
       "Text(0, 0.5, '$\\\\rho_{NADPH}$')"
      ]
     },
     "execution_count": 39,
     "metadata": {},
     "output_type": "execute_result"
    },
    {
     "data": {
      "text/plain": [
       "Text(0.5, 0, '$t/t_0$')"
      ]
     },
     "execution_count": 39,
     "metadata": {},
     "output_type": "execute_result"
    },
    {
     "data": {
      "text/plain": [
       "<matplotlib.legend.Legend at 0x7fc620ee7490>"
      ]
     },
     "execution_count": 39,
     "metadata": {},
     "output_type": "execute_result"
    },
    {
     "data": {
      "text/plain": [
       "(0.0, 15.0)"
      ]
     },
     "execution_count": 39,
     "metadata": {},
     "output_type": "execute_result"
    },
    {
     "data": {
      "image/png": "[encoded data removed]",
      "text/plain": [
       "<Figure size 432x288 with 1 Axes>"
      ]
     },
     "metadata": {
      "needs_background": "light"
     },
     "output_type": "display_data"
    }
   ],
   "source": [
    "## Plot ratios\n",
    "name = ['i','ii','iii']\n",
    "for sp in ['R5P','NADPH']: \n",
    "    BigFont = 24\n",
    "    plt.rcParams.update({'font.size': BigFont})\n",
    "    for i,path in enumerate(['both','R5P','NADPH']):\n",
    "        Ratio = RATIO[path]\n",
    "        label = f'Path {name[i]}'\n",
    "        plt.plot(t/t_0,Ratio[sp],label=label,linewidth=5)\n",
    "    ylabel = r'$\\rho_{'+sp+'}$'\n",
    "    plt.ylabel(ylabel)\n",
    "    plt.xlabel('$t/t_0$')\n",
    "    plt.legend()\n",
    "    plt.grid()\n",
    "    if sp=='R5P':\n",
    "        ylim = 8\n",
    "    else:\n",
    "        ylim=15\n",
    "    plt.ylim((0,ylim))\n",
    "    plt.savefig(f'Figs/{sp}_MM.pdf',bbox_inches='tight')\n",
    "\n",
    "    plt.show()"
   ]
  },
  {
   "cell_type": "code",
   "execution_count": 40,
   "metadata": {},
   "outputs": [
    {
     "name": "stdout",
     "output_type": "stream",
     "text": [
      "6PGC: 2.28e+02\n",
      "ADP: 9.75e-01\n",
      "ATP: 2.06e+00\n",
      "CO2: 9.86e-03\n",
      "DHAP: 1.88e+00\n",
      "E4P: 4.76e+00\n",
      "F6P: 2.60e+01\n",
      "FDP: 1.00e+01\n",
      "G3P: 1.92e+00\n",
      "G6P: 1.17e+01\n",
      "NADP: 7.32e-02\n",
      "NADPH: 1.85e+00\n",
      "R5P: 2.77e+01\n",
      "RU5PD: 2.13e+01\n",
      "S7P: 4.87e+01\n",
      "XU5PD: 6.05e+00\n"
     ]
    }
   ],
   "source": [
    "## Compare concentrations\n",
    "conc_mam = Concentration['Mammalian']\n",
    "conc_eco = Concentration['Ecoli']\n",
    "for spec in conc_eco.keys():\n",
    "    ratio = conc_eco[spec]/conc_mam[spec]\n",
    "    print(f'{spec}: {ratio:2.2e}')"
   ]
  },
  {
   "cell_type": "code",
   "execution_count": null,
   "metadata": {},
   "outputs": [],
   "source": []
  },
  {
   "cell_type": "code",
   "execution_count": null,
   "metadata": {},
   "outputs": [],
   "source": []
  }
 ],
 "metadata": {
  "kernelspec": {
   "display_name": "Python 3",
   "language": "python",
   "name": "python3"
  },
  "language_info": {
   "codemirror_mode": {
    "name": "ipython",
    "version": 3
   },
   "file_extension": ".py",
   "mimetype": "text/x-python",
   "name": "python",
   "nbconvert_exporter": "python",
   "pygments_lexer": "ipython3",
   "version": "3.8.5"
  },
  "toc": {
   "base_numbering": 1,
   "nav_menu": {},
   "number_sections": true,
   "sideBar": true,
   "skip_h1_title": false,
   "title_cell": "Table of Contents",
   "title_sidebar": "Contents",
   "toc_cell": false,
   "toc_position": {},
   "toc_section_display": true,
   "toc_window_display": false
  }
 },
 "nbformat": 4,
 "nbformat_minor": 4
}
