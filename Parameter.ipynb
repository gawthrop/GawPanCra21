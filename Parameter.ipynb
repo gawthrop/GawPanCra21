{
 "cells": [
  {
   "cell_type": "markdown",
   "metadata": {},
   "source": [
    "# Introduction\n",
    "This note illustrates an approach to fitting the parameters of a bond\n",
    "graph model to experimental data. Insofar as the parameters are\n",
    "associated with a bond graph, they are *physically-plausible*\n",
    "<cite data-cite=\"GawCudCra20\"></cite>.\n",
    "\n",
    "    \n",
    "The approach uses a bond-graph derived from a stoichiometric model of *e.coli*\n",
    "<cite data-cite=\"OrtFlePal10\"></cite>\n",
    "(using a method described elsewhere <cite data-cite=\"Gaw20X\"></cite>)\n",
    "combined with experimental values of *reaction potential*, *reaction flux* and *species concentration* from the literature <cite data-cite=\"ParRubXu16\"></cite>.\n"
   ]
  },
  {
   "cell_type": "markdown",
   "metadata": {},
   "source": [
    "## Setup modules"
   ]
  },
  {
   "cell_type": "code",
   "execution_count": 1,
   "metadata": {},
   "outputs": [],
   "source": [
    "## Maths library\n",
    "import numpy as np\n",
    "import scipy\n",
    "\n",
    "## BG tools\n",
    "import BondGraphTools as bgt\n",
    "\n",
    "## SVG bond graph\n",
    "import svgBondGraph as sbg\n",
    "\n",
    "## BG stoichiometric utilities\n",
    "import stoich as st\n",
    "\n",
    "## Modular bond graphs\n",
    "import modularBondGraph as mbg\n",
    "\n",
    "## Stoichiometric conversion\n",
    "import CobraExtract as Extract\n",
    "import stoichBondGraph as stbg\n",
    "\n",
    "## Potentials\n",
    "import phiData\n",
    "\n",
    "## Faraday constant\n",
    "import scipy.constants as con\n",
    "F = con.physical_constants['Faraday constant'][0]\n",
    "\n",
    "## Display\n",
    "import IPython.display as disp\n",
    "\n",
    "## Plotting\n",
    "import matplotlib.pyplot as plt\n",
    "\n",
    "\n",
    "import copy\n",
    "\n",
    "## Allow output from within functions\n",
    "from IPython.core.interactiveshell import InteractiveShell\n",
    "InteractiveShell.ast_node_interactivity = \"all\"\n",
    "\n",
    "import importlib as imp\n",
    "\n",
    "quiet = True\n",
    "showMu=True"
   ]
  },
  {
   "cell_type": "markdown",
   "metadata": {},
   "source": [
    "## Quadratic programming QP.\n",
    "\\begin{align}\n",
    "\\text{minimise } & \\frac{1}{2}x^TPx + q^Tx\\\\\n",
    "\\text{subject to } & Gx \\le h\\\\\n",
    "\\text{and } & Ax = b\n",
    "\\end{align}\n",
    "\n",
    "In the case considered here, there is no equality constraint and\n",
    "\\begin{align}\n",
    "x &= \\hat{\\phi}\\\\\n",
    "P & = N N^T + \\mu I_{n_X \\times n_X}\\\\\n",
    "q &= (N \\Phi)^T \\\\\n",
    "G &= N^T\\\\\n",
    "h &= -\\Phi_{min}\n",
    "\\end{align}\n",
    "\n",
    "$\\mu > 0$ is required to give a convex QP: in essence it turns a non-unique solution for $\\phi$ into a minimum norm solution."
   ]
  },
  {
   "cell_type": "code",
   "execution_count": 2,
   "metadata": {},
   "outputs": [],
   "source": [
    "## Quadratic programming stuff.\n",
    "import quadprog\n",
    "\n",
    "## Function from https://scaron.info/blog/quadratic-programming-in-python.html\n",
    "def quadprog_solve_qp(P, q, G=None, h=None, A=None, b=None):\n",
    "    qp_G = .5 * (P + P.T)   # make sure P is symmetric\n",
    "    qp_a = -q\n",
    "    if A is not None:\n",
    "        qp_C = -numpy.vstack([A, G]).T\n",
    "        qp_b = -numpy.hstack([b, h])\n",
    "        meq = A.shape[0]\n",
    "    else:  # no equality constraint\n",
    "        qp_C = -G.T\n",
    "        qp_b = -h\n",
    "        meq = 0\n",
    "    return quadprog.solve_qp(qp_G, qp_a, qp_C, qp_b, meq)[0]\n",
    "\n",
    "## Function to compute phi from Phi subject to Phi>positive number\n",
    "## NN Reduced N corresponding to known Phi\n",
    "def quadsolve_phi(N0,N1,Phi0,Phi_min=0.0,mu=1e-10):\n",
    "    \n",
    "    (n_X,n_V) = N1.shape\n",
    "    P = 1.0*N0@(N0.T) + mu*np.eye(n_X)\n",
    "    q = (N0@Phi0).T\n",
    "    G = 1.0*N1.T\n",
    "    h = -Phi_min*np.ones((n_V))\n",
    "    phi = quadprog_solve_qp(P, q, G=G, h=h)\n",
    "    \n",
    "    return phi\n"
   ]
  },
  {
   "cell_type": "markdown",
   "metadata": {},
   "source": [
    "# Conversion factor"
   ]
  },
  {
   "cell_type": "code",
   "execution_count": 3,
   "metadata": {},
   "outputs": [
    {
     "name": "stdout",
     "output_type": "stream",
     "text": [
      "To convert from kJ/mol to mV, divide by 10.4\n"
     ]
    }
   ],
   "source": [
    "Factor = st.F()/1e6\n",
    "print(f'To convert from kJ/mol to mV, divide by {1/Factor:4.3}')"
   ]
  },
  {
   "cell_type": "markdown",
   "metadata": {},
   "source": [
    "# Extract Model\n",
    "This example uses the Glycolysis and Pentose Phosphate pathways.\n",
    "\n",
    "Notes:\n",
    "\n",
    "- Reactions RPI, PGK and PGM are reversed to correspond to positive flows.\n",
    "- The resultant stoichiometric matrix $N$ relates reaction flows ($f$) to species flows ($\\dot{x}$): \n",
    "\n",
    "\\begin{equation}\n",
    "\\dot{x} = N f\n",
    "\\end{equation}"
   ]
  },
  {
   "cell_type": "markdown",
   "metadata": {},
   "source": [
    "## Extract stoichiometry"
   ]
  },
  {
   "cell_type": "code",
   "execution_count": 4,
   "metadata": {},
   "outputs": [
    {
     "name": "stdout",
     "output_type": "stream",
     "text": [
      "Extracting stoichiometric matrix from: textbook\n",
      "Cobra Model name: e_coli_core BondGraphTools name: e_coli_core_abg\n",
      "Extract.Integer only handles one non-integer per reaction\n",
      "Multiplying reaction BIOMASS_ECOLIORE ( 12 ) by 0.6684491978609626 to avoid non-integer species 3PG ( 2 )\n",
      "Multiplying reaction CYTBD ( 15 ) by 2.0 to avoid non-integer species O2 ( 55 )\n",
      "Multiplying reaction PGK ( 54 ) by -1\n",
      "Multiplying reaction PGM ( 56 ) by -1\n",
      "Multiplying reaction RPI ( 65 ) by -1\n"
     ]
    }
   ],
   "source": [
    "sm = Extract.extract(cobraname='textbook',Remove=['_C','__' ],\n",
    "negReaction=['RPI','PGK','PGM'], quiet=quiet)\n"
   ]
  },
  {
   "cell_type": "code",
   "execution_count": 5,
   "metadata": {},
   "outputs": [
    {
     "data": {
      "text/plain": [
       "<module 'GlyPPP_abg' from '/home/peterg/WEB/Github/Papers/GawPanCra21/GlyPPP_abg.py'>"
      ]
     },
     "execution_count": 5,
     "metadata": {},
     "output_type": "execute_result"
    }
   ],
   "source": [
    "name = 'GlyPPP_abg'\n",
    "reaction = []\n",
    "\n",
    "## Glycolysis\n",
    "reaction += ['PGI','PFK','FBA','TPI']\n",
    "\n",
    "## Pentose Phosphate\n",
    "reaction += ['G6PDH2R','PGL','GND','RPI','TKT2','TALA','TKT1','RPE']\n",
    "\n",
    "ss = Extract.choose(sm,reaction=reaction)\n",
    "\n",
    "## Create BG\n",
    "ss['name'] = name\n",
    "stbg.model(ss)\n",
    "import GlyPPP_abg\n",
    "imp.reload(GlyPPP_abg)\n",
    "s = st.stoich(GlyPPP_abg.model(),quiet=quiet)"
   ]
  },
  {
   "cell_type": "code",
   "execution_count": 6,
   "metadata": {},
   "outputs": [
    {
     "name": "stdout",
     "output_type": "stream",
     "text": [
      "['ADP', 'ATP', 'CO2', 'G3P', 'G6P', 'H', 'H2O', 'NADP', 'NADPH', 'R5P']\n",
      "3 pathways\n",
      "0:  + PGI + PFK + FBA + TPI\n",
      "1:  + G6PDH2R + PGL + GND + RPI\n",
      "2:  - 2 PGI + 2 G6PDH2R + 2 PGL + 2 GND + TKT2 + TALA + TKT1 + 2 RPE\n",
      "\n"
     ]
    },
    {
     "data": {
      "text/latex": [
       "\\begin{align}\n",
       "\\ch{ATP + G6P &<>[ PPP1 ] ADP + 2 G3P + H }\\\\\n",
       "\\ch{G6P + H2O + 2 NADP &<>[ PPP2 ] CO2 + 2 H + 2 NADPH + R5P }\\\\\n",
       "\\ch{2 H2O + 4 NADP + R5P &<>[ PPP3 ] 2 CO2 + G3P + 4 H + 4 NADPH }\n",
       "\\end{align}\n"
      ],
      "text/plain": [
       "<IPython.core.display.Latex object>"
      ]
     },
     "execution_count": 6,
     "metadata": {},
     "output_type": "execute_result"
    }
   ],
   "source": [
    "\n",
    "## Set up chemostats\n",
    "chemostats = ['ADP','ATP','H','H2O','NADP','NADPH','CO2']\n",
    "chemostats += ['G6P','G3P','R5P']\n",
    "#chemostats += ['G6P','R5P']\n",
    "chemostats.sort()\n",
    "print(chemostats)\n",
    "sc = st.statify(s,chemostats=chemostats)\n",
    "\n",
    "sp = st.path(s,sc,pathname='PPP')\n",
    "print(st.sprintp(sc))\n",
    "disp.Latex(st.sprintrl(sp,chemformula=True))\n"
   ]
  },
  {
   "cell_type": "code",
   "execution_count": 7,
   "metadata": {
    "scrolled": true
   },
   "outputs": [
    {
     "name": "stdout",
     "output_type": "stream",
     "text": [
      "\\begin{align}\n",
      "K^T &=\n",
      "\\left(\\begin{array}{cccccccccccc}1 & 1 & 1 & 1 & 0 & 0 & 0 & 0 & 0 & 0 & 0 & 0\\\\0 & 0 & 0 & 0 & 1 & 1 & 1 & 1 & 0 & 0 & 0 & 0\\\\-2 & 0 & 0 & 0 & 2 & 2 & 2 & 0 & 1 & 1 & 1 & 2\\end{array}\\right)\n",
      "\\end{align}\n",
      "\n"
     ]
    },
    {
     "data": {
      "text/latex": [
       "\\begin{align}\n",
       "K^T &=\n",
       "\\left(\\begin{array}{cccccccccccc}1 & 1 & 1 & 1 & 0 & 0 & 0 & 0 & 0 & 0 & 0 & 0\\\\0 & 0 & 0 & 0 & 1 & 1 & 1 & 1 & 0 & 0 & 0 & 0\\\\-2 & 0 & 0 & 0 & 2 & 2 & 2 & 0 & 1 & 1 & 1 & 2\\end{array}\\right)\n",
       "\\end{align}\n"
      ],
      "text/plain": [
       "<IPython.core.display.Latex object>"
      ]
     },
     "execution_count": 7,
     "metadata": {},
     "output_type": "execute_result"
    }
   ],
   "source": [
    "print(st.sprintl(sc,'K',transpose=True))\n",
    "disp.Latex(st.sprintl(sc,'K',transpose=True))"
   ]
  },
  {
   "cell_type": "markdown",
   "metadata": {},
   "source": [
    "## Extract reaction potentials $\\Phi$ and deduce plausible species potentials $\\phi$.\n",
    "\n",
    "Because of the energetic constaints implied by the bond graph, the reaction potentials $\\Phi$ are \n",
    "related to the species potentials $\\phi$ by\n",
    "\\begin{equation}\n",
    "\\Phi = - N^T \\phi\n",
    "\\end{equation}\n",
    "Typically, there are more species than reactions and so $N$ has more rows than columns.\n",
    "Given the reaction potentials $\\Phi$, the species potentials can be estimated using\n",
    "the *pseudo inverse* $N^\\dagger$ of $-N^T$:\n",
    "\\begin{equation}\n",
    "\\hat{\\phi} = N^\\dagger \\Phi\n",
    "\\end{equation}\n",
    "\n",
    "Notes:\n",
    "\n",
    "- In general $\\hat{\\phi} \\ne \\phi$ but is physically plausible insofar as $-N^T \\hat{\\phi}=\\Phi$."
   ]
  },
  {
   "cell_type": "code",
   "execution_count": 8,
   "metadata": {},
   "outputs": [],
   "source": [
    "def getPhi(s,Phi_hyd=0.5,phi_6PGL=None,quadprog=False):\n",
    "    \"\"\"Extract phi for given system using\n",
    "    Reaction potentials from ParRubXu16\"\"\"\n",
    "    \n",
    "    ## Reaction potentials from ParRubXu16\n",
    "    PHI = phiData.Phi_ParRubXu16_Measured()\n",
    "    \n",
    "#     Phenotype = 'Mammalian'\n",
    "#     Phenotype = 'Yeast'\n",
    "    Phenotype = 'Ecoli'\n",
    "    Phi_reac = PHI[Phenotype]\n",
    "    \n",
    "    Phi = np.zeros((len(s['reaction']),1))\n",
    "    N = copy.copy(s['N'])\n",
    "    N_0 = None\n",
    "    N_1 = None\n",
    "    Phi_0 = []\n",
    "    for j,reac in enumerate(s['reaction']):\n",
    "        if (reac in Phi_reac.keys()) and not np.isnan(Phi_reac[reac]):\n",
    "            Phi_0.append(Phi_reac[reac])\n",
    "            if N_0 is None:\n",
    "                N_0 = N[:,j]\n",
    "            else:\n",
    "                N_0 = np.vstack((N_0,N[:,j]))\n",
    "        else:\n",
    "            if N_1 is None:\n",
    "                N_1 = N[:,j]\n",
    "            else:\n",
    "                N_1 = np.vstack((N_1,N[:,j]))\n",
    "\n",
    "    Phi_0 = np.array(Phi_0)\n",
    "    #print(N_1)\n",
    "    \n",
    "    ## Compute Phi\n",
    "    N_0 = N_0.T\n",
    "    N_1 = N_1.T\n",
    "    \n",
    "    n_X,n_V = N_0.shape\n",
    "    print(f'Extracting {n_X} values of phi from {n_V} values of Phi')\n",
    "\n",
    "    \n",
    "    if quadprog:\n",
    "        phi = quadsolve_phi(N_0,N_1,Phi_0,Phi_min=1e-3,mu=1e-10)\n",
    "    else:\n",
    "        ## Compute Phi using pseudo inverse\n",
    "        pinvNT =  scipy.linalg.pinv(N_0.T)\n",
    "        phi = -pinvNT@Phi_0\n",
    "        \n",
    "    if phi_6PGL is not None:\n",
    "        ## Reset 6PGL\n",
    "        i_6PGL = s['species'].index('6PGL')\n",
    "        phi[i_6PGL] = phi_6PGL\n",
    "        print (f'Resetting phi_6GPL to {int(1e3*phi[i_6PGL])} mV' )\n",
    "\n",
    "    ## Sanity check\n",
    "    Phi_new = -N_0.T@phi\n",
    "    err = np.linalg.norm(Phi_new-Phi_0)\n",
    "    print(f'Phi error = {int(err*1000)}mV\\n')\n",
    "    \n",
    "    Phi = -N.T@phi\n",
    "    \n",
    "    return Phi,phi,Phi_0,Phi_reac\n",
    "     "
   ]
  },
  {
   "cell_type": "code",
   "execution_count": 9,
   "metadata": {},
   "outputs": [
    {
     "name": "stdout",
     "output_type": "stream",
     "text": [
      "Extracting 19 values of phi from 10 values of Phi\n",
      "Phi error = 0mV\n",
      "\n",
      "Minimum Phi =  -3 mV\n"
     ]
    }
   ],
   "source": [
    "Phi_,phi_est_,Phi_0_,Phi_reac_ = getPhi(s,quadprog=False)\n",
    "print('Minimum Phi = ', int(round(np.min(1e3*Phi_))), 'mV')"
   ]
  },
  {
   "cell_type": "code",
   "execution_count": 10,
   "metadata": {},
   "outputs": [
    {
     "name": "stdout",
     "output_type": "stream",
     "text": [
      "Extracting 19 values of phi from 10 values of Phi\n",
      "Phi error = 0mV\n",
      "\n",
      "Minimum Phi =  0 mV\n",
      "\n",
      "Change in phi\n",
      "1 6PGL\t 1\n",
      "12 H2O\t 1\n",
      "\n",
      "Change in Phi\n",
      "5 PGL\t 4 1 -3\n"
     ]
    }
   ],
   "source": [
    "Phi,phi_est,Phi_0,Phi_reac = getPhi(s,quadprog=True)\n",
    "print('Minimum Phi = ', int(round(np.min(1e3*Phi))), 'mV')\n",
    "\n",
    "print('\\nChange in phi')\n",
    "for i,spec in enumerate(s['species']):\n",
    "    change = int(1e3*(phi_est[i]-phi_est_[i]))\n",
    "    if not change==0:\n",
    "        print(f'{i} {spec}\\t {change}')\n",
    "    \n",
    "print('\\nChange in Phi')\n",
    "for i,reac in enumerate(s['reaction']):\n",
    "    change = int(round(1e3*(Phi[i]-Phi_[i])))\n",
    "    if not change == 0:\n",
    "        print(f'{i} {reac}\\t {change} {int(round(1e3*Phi[i]))} {int(round(1e3*Phi_[i]))}')\n",
    "        "
   ]
  },
  {
   "cell_type": "markdown",
   "metadata": {},
   "source": [
    "## Extracted reactions and reaction potentials"
   ]
  },
  {
   "cell_type": "code",
   "execution_count": 11,
   "metadata": {},
   "outputs": [
    {
     "data": {
      "text/latex": [
       "\\begin{xalignat*}{2}\n",
       "\\ch{G6P &<>[ PGI ] F6P }&&(16~\\text{mV})\\;[-1.59~\\text{kJ mol}^{-1}]\\\\\n",
       "\\ch{ATP + F6P &<>[ PFK ] ADP + FDP + H }&&(68~\\text{mV})\\;[-6.64~\\text{kJ mol}^{-1}]\\\\\n",
       "\\ch{FDP &<>[ FBA ] DHAP + G3P }&&(20~\\text{mV})\\;[-1.93~\\text{kJ mol}^{-1}]\\\\\n",
       "\\ch{DHAP &<>[ TPI ] G3P }&&(7~\\text{mV})\\;[-0.77~\\text{kJ mol}^{-1}]\\\\\n",
       "\\ch{G6P + NADP &<>[ G6PDH2R ] 6PGL + H + NADPH }&&(82~\\text{mV})\\;[-7.99~\\text{kJ mol}^{-1}]\\\\\n",
       "\\ch{6PGL + H2O &<>[ PGL ] 6PGC + H }&&(1~\\text{mV})\\;[-0.10~\\text{kJ mol}^{-1}]\\\\\n",
       "\\ch{6PGC + NADP &<>[ GND ] CO2 + NADPH + RU5PD }&&(114~\\text{mV})\\;[-11.05~\\text{kJ mol}^{-1}]\\\\\n",
       "\\ch{RU5PD &<>[ RPI ] R5P }&&(0~\\text{mV})\\;[-0.00~\\text{kJ mol}^{-1}]\\\\\n",
       "\\ch{E4P + XU5PD &<>[ TKT2 ] F6P + G3P }&&(16~\\text{mV})\\;[-1.58~\\text{kJ mol}^{-1}]\\\\\n",
       "\\ch{G3P + S7P &<>[ TALA ] E4P + F6P }&&(54~\\text{mV})\\;[-5.25~\\text{kJ mol}^{-1}]\n",
       "\\end{xalignat*}\n",
       "\n",
       "\\begin{xalignat*}{2}\n",
       "\\ch{R5P + XU5PD &<>[ TKT1 ] G3P + S7P }&&(4~\\text{mV})\\;[-0.39~\\text{kJ mol}^{-1}]\\\\\n",
       "\\ch{RU5PD &<>[ RPE ] XU5PD }&&(0~\\text{mV})\\;[-0.08~\\text{kJ mol}^{-1}]\n",
       "\\end{xalignat*}\n"
      ],
      "text/plain": [
       "<IPython.core.display.Latex object>"
      ]
     },
     "execution_count": 11,
     "metadata": {},
     "output_type": "execute_result"
    }
   ],
   "source": [
    "disp.Latex(st.sprintrl(s,chemformula=True,Phi=Phi,units=['mV','kJ'] ,showMu=showMu))"
   ]
  },
  {
   "cell_type": "markdown",
   "metadata": {},
   "source": [
    "# Deduce Pathway Flows\n",
    "\n",
    "From basic stoichiometric analysis, steady-state flows can be written as:\n",
    "\\begin{align}\n",
    "f &= K_p f_p\\\\\n",
    "\\text{where }\n",
    "K_p N^{cd} &= 0\n",
    "\\end{align}\n",
    "Note that the *pathway matrix* $K_p$ is dependent on the choice of chemostats.\n",
    "\n",
    "Given a set of experimental flows $f$, an estimate $\\hat{f}_p$ of $f_p$ can be obtained from the *least-squares* formula:\n",
    "\\begin{equation}\n",
    "(K_p^T K_p) \\hat{f}_p = K_p^T f\n",
    "\\end{equation}\n",
    "\n",
    "Notes:\n",
    "\n",
    "- $v_p$ is a $n_p$ vector containg the pathways flows\n",
    "- $(K_p^T K_p)$ is a square $n_p \\times n_p$ matrix where $n_p$ is the number of pathways\n",
    "- If some flows are not measured, the corresponding rows of $K_p$ are deleted\n",
    "- the reaction flows (including the missing ones) can be estimated from $\\hat{f} = K_p \\hat{f}_p$.\n",
    "- the estimated chemostat flows are given by the non-zero elements of\n",
    "\\begin{equation}\n",
    "\\hat{\\dot{x}} = N \\hat{f}\n",
    "\\end{equation}"
   ]
  },
  {
   "cell_type": "code",
   "execution_count": 12,
   "metadata": {},
   "outputs": [],
   "source": [
    "def PathwayFlux(K,reaction,Reaction,flux):\n",
    "    \n",
    "    #KK = st.singleRemove(K)\n",
    "    KK = K\n",
    "    Kp = None\n",
    "    Flux = {}\n",
    "    reac_known = []\n",
    "    #flux = phiData.ParRubXu16_flux()\n",
    "    for i,reac in enumerate(reaction):\n",
    "        if reac in flux.keys():\n",
    "            reac_known.append(reac)\n",
    "            fi = flux[reac]\n",
    "            #Ki = np.abs(KK[i,:])\n",
    "            Ki = KK[i,:]\n",
    "            #print(reac,Ki)\n",
    "            if Kp is None:\n",
    "                Kp = Ki\n",
    "                f = fi\n",
    "            else:\n",
    "                Kp = np.vstack((Kp,Ki))\n",
    "                f = np.vstack((f,fi))\n",
    "    #print(Kp)\n",
    "\n",
    "    if Kp is not None:    \n",
    "        #print(f)\n",
    "        f_p = np.linalg.solve(Kp.T@Kp,Kp.T@f)\n",
    "        for i,Reac in enumerate(Reaction):\n",
    "            Flux[Reac] = f_p[i][0]\n",
    "        #print(f_p)\n",
    "        f_est = Kp@f_p\n",
    "        #print(Kp@f_p-f)\n",
    "        \n",
    "    error = np.linalg.norm(f_est-f)/len(f)\n",
    "    print(f'Flux error = {error:.2e}')\n",
    "    \n",
    "    return Flux,f_p,f_est,f,reac_known\n",
    "    "
   ]
  },
  {
   "cell_type": "markdown",
   "metadata": {},
   "source": [
    "# Reaction constants (modified mass-action)\n",
    "\n",
    "The modified mass-action formula is <cite data-cite=\"GawCudCra20\"></cite>:\n",
    "\\begin{align}\n",
    "  f &= \\kappa \\left ( \\exp \\frac{\\Phi^f}{\\alpha V_N} - \\exp\n",
    "      \\frac{\\Phi^r}{\\alpha V_N} \\right )\\label{eq:MMA0}\n",
    "\\end{align}\n",
    "Thus an estimate for $\\kappa$ can be computed as:\n",
    "\\begin{align}\n",
    "\\hat{\\kappa} &= \\frac{\\hat{f}}{f_0}\\\\\n",
    "\\text{where }\n",
    "f_0 &= \\left ( \\exp \\frac{\\Phi^f}{\\alpha V_N} - \\exp\n",
    "      \\frac{\\Phi^r}{\\alpha V_N} \\right )\n",
    "\\end{align}"
   ]
  },
  {
   "cell_type": "code",
   "execution_count": 13,
   "metadata": {},
   "outputs": [],
   "source": [
    "def reactionConstant(s,phi_est,f_est,alpha=1):\n",
    "    \n",
    "    V_N = st.V_N()\n",
    "    \n",
    "    ## Extract stoichiometry\n",
    "    N = s['N']\n",
    "    Nf = s['Nf']\n",
    "    Nr = s['Nr']\n",
    "    reaction = s['reaction']\n",
    "    \n",
    "    ## Compute Phis from estimated phi \n",
    "    Phi_ = -N.T@phi_est\n",
    "    Phi_f = Nf.T@phi_est \n",
    "    Phi_r = Nr.T@phi_est\n",
    "\n",
    "    ## Compute normalised flow rates\n",
    "    f0 = (np.exp(Phi_f/(alpha*V_N)) - np.exp(Phi_r/(alpha*V_N)))\n",
    "    \n",
    "    parameter = {}\n",
    "    for i,react in enumerate(reaction):\n",
    "        kap = f_est[i][0]/f0[i]\n",
    "        parameter[f'kappa_{react}'] = kap\n",
    "        #print(f'{react}: \\tPhi = {int(Phi_[i]*1000)}mV, \\tf_est = {f_est[i][0]:.2e}, \\tkappa = {kap:.2}')\n",
    "        \n",
    "    return parameter"
   ]
  },
  {
   "cell_type": "markdown",
   "metadata": {},
   "source": [
    "## Normalise data"
   ]
  },
  {
   "cell_type": "code",
   "execution_count": 14,
   "metadata": {},
   "outputs": [
    {
     "data": {
      "text/plain": [
       "<module 'phiData' from '/home/peterg/WEB/Github/Papers/GawPanCra21/phiData.py'>"
      ]
     },
     "execution_count": 14,
     "metadata": {},
     "output_type": "execute_result"
    },
    {
     "name": "stdout",
     "output_type": "stream",
     "text": [
      "c_0 = 0.675 mM, f_0 = 0.9916666666666667 mM/sec, t_0 = 0.680672268907563 sec\n"
     ]
    }
   ],
   "source": [
    "imp.reload(phiData)\n",
    "## Extract experimetal data\n",
    "concentration = phiData.ParRubXu16_conc() # M\n",
    "Flux = phiData.ParRubXu16_flux() # mM/min\n",
    "flux = Flux['Ecoli']\n",
    "\n",
    "c_0 = concentration['G6P']\n",
    "f_0 = flux['PGI']/60\n",
    "t_0 = (1000*c_0)/f_0\n",
    "\n",
    "print(f'c_0 = {c_0*1000} mM, f_0 = {f_0} mM/sec, t_0 = {t_0} sec')"
   ]
  },
  {
   "cell_type": "markdown",
   "metadata": {},
   "source": [
    "## Show computed reaction flows"
   ]
  },
  {
   "cell_type": "code",
   "execution_count": 15,
   "metadata": {
    "scrolled": false
   },
   "outputs": [
    {
     "name": "stdout",
     "output_type": "stream",
     "text": [
      "['PPP1', 'PPP2', 'PPP3']\n",
      "Flux error = 1.86e-01\n",
      "\n",
      "\n",
      "%% LaTeX table\n",
      "\\hline\n",
      "Reaction &\t $\\Phi$~mV &\t $\\hat{\\Phi}$~mV &\t $f$ & $\\hat{f}$ & $\\hat{\\kappa}$\\\\\n",
      "\\hline\n",
      "PGI &\t 16.48 &\t 16.48 &\t 60.00 & 59.52 & 154.39 \\\\\n",
      "PFK &\t 68.82 &\t 68.82 &\t 62.62 & 63.12 & 54.85 \\\\\n",
      "FBA &\t 20.00 &\t 20.00 &\t 63.43 & 63.12 & 160.08 \\\\\n",
      "TPI &\t 7.98 &\t 7.98 &\t 62.82 & 63.12 & 353.93 \\\\\n",
      "G6PDH2R &\t -- &\t 82.84 &\t -- & 11.58 & 4.67 \\\\\n",
      "PGL &\t -- &\t 1.00 &\t -- & 11.58 & 291.64 \\\\\n",
      "GND &\t 114.53 &\t 114.53 &\t 11.70 & 11.58 & 1.27 \\\\\n",
      "RPI &\t 0.04 &\t 0.04 &\t 7.87 & 7.98 & 4206.98 \\\\\n",
      "TKT2 &\t 16.38 &\t 16.38 &\t 0.91 & 1.80 & 9.17 \\\\\n",
      "TALA &\t 54.41 &\t 54.41 &\t -- & 1.80 & 1.66 \\\\\n",
      "TKT1 &\t 4.04 &\t 4.04 &\t 2.92 & 1.80 & 8.82 \\\\\n",
      "RPE &\t 0.83 &\t 0.83 &\t 3.83 & 3.59 & 96.07 \\\\\n",
      "\\hline\n"
     ]
    }
   ],
   "source": [
    "K = sc['K']\n",
    "n_path = K.shape[1]\n",
    "Reaction = []\n",
    "for i in range(n_path):\n",
    "    Reaction += [f'PPP{i+1}']\n",
    "    \n",
    "print(Reaction)\n",
    "\n",
    "for reac in flux.keys():\n",
    "    flux[reac] *= 1/f_0\n",
    "\n",
    "fluxp,f_p,f_est,f,reaction = PathwayFlux(sc['K'],s['reaction'],Reaction,flux)\n",
    "\n",
    "\n",
    "## Reaction constants\n",
    "f_est = sc['K']@f_p\n",
    "parameter = reactionConstant(s,phi_est,f_est)\n",
    "\n",
    "#f_est = sc['K']@f_p\n",
    "j=0\n",
    "\n",
    "print('\\n\\n%% LaTeX table')\n",
    "print('\\\\hline')\n",
    "print('Reaction &\\t $\\Phi$~mV &\\t $\\hat{\\Phi}$~mV &\\t $f$ & $\\\\hat{f}$ & $\\\\hat{\\\\kappa}$\\\\\\\\')\n",
    "print('\\\\hline')\n",
    "for i,reac in enumerate(s['reaction']):\n",
    "    if reac in flux.keys():\n",
    "        ff = f'{f[j][0]:0.2f}'\n",
    "        j += 1\n",
    "    else:\n",
    "        ff = '--'\n",
    "    if reac in Phi_reac.keys():\n",
    "        PP = f'{1e3*Phi_reac[reac]:.2f}'\n",
    "    else:\n",
    "        PP = '--'\n",
    "    kappa = 'kappa_'+reac\n",
    "    print(f'{reac} &\\t {PP} &\\t {1e3*Phi[i]:.2f} &\\t {ff} & {f_est[i][0]:0.2f} & {parameter[kappa]:.2f} \\\\\\\\')\n",
    "print('\\\\hline')"
   ]
  },
  {
   "cell_type": "markdown",
   "metadata": {},
   "source": [
    "## Show computed chemostat flows"
   ]
  },
  {
   "cell_type": "code",
   "execution_count": 16,
   "metadata": {},
   "outputs": [
    {
     "name": "stdout",
     "output_type": "stream",
     "text": [
      "\n",
      "\n",
      "%% LaTeX table\n",
      "\\hline\n",
      "Chemostat &\t flow \\\\\n",
      "\\hline\n",
      "ADP &\t 63.12 \\\\\n",
      "ATP &\t -63.12 \\\\\n",
      "CO2 &\t 11.58 \\\\\n",
      "G3P &\t 128.03 \\\\\n",
      "G6P &\t -71.10 \\\\\n",
      "H &\t 86.27 \\\\\n",
      "H2O &\t -11.58 \\\\\n",
      "NADP &\t -23.16 \\\\\n",
      "NADPH &\t 23.16 \\\\\n",
      "R5P &\t 6.19 \\\\\n",
      "\\hline\n"
     ]
    }
   ],
   "source": [
    "dx_est = s['N']@f_est\n",
    "\n",
    "print('\\n\\n%% LaTeX table')\n",
    "print('\\\\hline')\n",
    "print('Chemostat &\\t flow \\\\\\\\')\n",
    "print('\\\\hline')\n",
    "for i,spec in enumerate(s['species']):\n",
    "    if spec in chemostats:\n",
    "        print(f'{spec} &\\t {dx_est[i][0]:0.2f} \\\\\\\\')\n",
    "print('\\\\hline')"
   ]
  },
  {
   "cell_type": "markdown",
   "metadata": {},
   "source": [
    "## Show pathway flows"
   ]
  },
  {
   "cell_type": "code",
   "execution_count": 17,
   "metadata": {},
   "outputs": [
    {
     "name": "stdout",
     "output_type": "stream",
     "text": [
      "\n",
      "\n",
      "%% LaTeX table\n",
      "\\hline\n",
      "Pathway &\t $\\hat{f}_p$ \\\\\n",
      "\\hline\n",
      "PPP1 &\t 63.12 \\\\\n",
      "PPP2 &\t 7.98 \\\\\n",
      "PPP3 &\t 1.80 \\\\\n",
      "\\hline\n"
     ]
    }
   ],
   "source": [
    "print('\\n\\n%% LaTeX table')\n",
    "print('\\\\hline')\n",
    "print('Pathway &\\t $\\hat{f}_p$ \\\\\\\\')\n",
    "print('\\\\hline')\n",
    "for reac in fluxp.keys():\n",
    "    print(f'{reac} &\\t {fluxp[reac]:0.2f} \\\\\\\\')\n",
    "print('\\\\hline')"
   ]
  },
  {
   "cell_type": "markdown",
   "metadata": {},
   "source": [
    "# Species constants\n",
    "\n",
    "\\begin{equation}\n",
    "K = \\frac{\\exp \\phi}{x^\\circ} = \\frac{\\exp \\phi}{V c^\\circ}\n",
    "\\end{equation}"
   ]
  },
  {
   "cell_type": "code",
   "execution_count": 18,
   "metadata": {
    "scrolled": false
   },
   "outputs": [
    {
     "name": "stdout",
     "output_type": "stream",
     "text": [
      "\n",
      "\n",
      "%% LaTeX table\n",
      "\\hline\n",
      "Species &\t $\\hat{\\phi}~mV$ & $c$ & $\\hat{K}$ \\\\\n",
      "\\hline\n",
      "6PGC & 29 &  \t0.0244 & 122.0024 \\\\\n",
      "ADP & -27 &  \t0.8430 & 0.4307 \\\\\n",
      "ATP & 27 &  \t6.9185 & 0.3981 \\\\\n",
      "CO2 & -30 &  \t11.3037 & 0.0285 \\\\\n",
      "DHAP & -10 &  \t2.4148 & 0.2861 \\\\\n",
      "E4P & -27 &  \t0.0153 & 23.6091 \\\\\n",
      "F6P & -21 &  \t0.1436 & 3.1500 \\\\\n",
      "FDP & -8 &  \t2.2519 & 0.3323 \\\\\n",
      "G3P & -18 &  \t0.2089 & 2.4534 \\\\\n",
      "G6P & -5 &  \t1.0000 & 0.8377 \\\\\n",
      "NADP & 30 &  \t0.0421 & 73.6973 \\\\\n",
      "NADPH & -30 &  \t0.0969 & 3.3286 \\\\\n",
      "R5P & 5 &  \t0.0421 & 29.0593 \\\\\n",
      "RU5PD & 5 &  \t0.0078 & 156.8432 \\\\\n",
      "S7P & 24 &  \t0.0268 & 90.7932 \\\\\n",
      "XU5PD & 5 &  \t0.0443 & 26.7998 \\\\\n",
      "\\hline\n"
     ]
    }
   ],
   "source": [
    "#imp.reload(phiData)\n",
    "\n",
    "print('\\n\\n%% LaTeX table')\n",
    "print('\\\\hline')\n",
    "print('Species &\\t $\\\\hat{\\\\phi}~mV$ & $c$ & $\\\\hat{K}$ \\\\\\\\')\n",
    "print('\\\\hline')\n",
    "\n",
    "\n",
    "#concentration['H'] = 1e-7\n",
    "\n",
    "## Data in mM\n",
    "scale = 1e3\n",
    "K_spec = np.ones(s['n_X'])\n",
    "conc = np.ones(s['n_X'])\n",
    "c_G6P = concentration['G6P']\n",
    "#print('c_G6P',c_G6P)\n",
    "for i,spec in enumerate(s['species']):\n",
    "    if spec in concentration.keys():  \n",
    "        conc[i] = concentration[spec]/c_G6P\n",
    "        K_spec[i] = np.exp(phi_est[i]/st.V_N())/conc[i] \n",
    "        print(f'{spec} & {int(round(1e3*phi_est[i]))} &  \\t{conc[i]:.4f} & {K_spec[i]:.4f} \\\\\\\\')\n",
    "    else:\n",
    "        K_spec[i] = np.exp(phi_est[i]/st.V_N())\n",
    "#         print(f'{spec} &{phi_est[i]:.2} & -- & --\\\\\\\\')\n",
    "    \n",
    "print('\\\\hline')\n",
    "\n",
    "#print(conc)"
   ]
  },
  {
   "cell_type": "markdown",
   "metadata": {},
   "source": [
    "# Simulation"
   ]
  },
  {
   "cell_type": "markdown",
   "metadata": {},
   "source": [
    "## Set up parameters\n",
    "\n",
    "- Reaction constants already set"
   ]
  },
  {
   "cell_type": "code",
   "execution_count": 19,
   "metadata": {},
   "outputs": [],
   "source": [
    "for i,spec in enumerate(s['species']):\n",
    "    #K_spec = np.exp(phi_est[i]/st.V_N())\n",
    "    parameter['K_'+spec] = K_spec[i]"
   ]
  },
  {
   "cell_type": "markdown",
   "metadata": {},
   "source": [
    "## Set up chemostats and flowstats"
   ]
  },
  {
   "cell_type": "code",
   "execution_count": 20,
   "metadata": {},
   "outputs": [],
   "source": [
    "def setPath(s,path='R5P'):\n",
    "    \n",
    "    print('\\n Path =', path)\n",
    "    \n",
    "    if path == 'R5P':\n",
    "        chemostats = ['ADP', 'ATP', 'CO2', 'G6P', 'H', 'H2O', 'NADP', 'NADPH', 'R5P']\n",
    "        flowstats =['G6PDH2R']\n",
    "        dX_G6P = 5\n",
    "    elif path == 'NADPH':\n",
    "        chemostats = ['ADP', 'ATP', 'CO2', 'G6P', 'H', 'H2O', 'NADP', 'NADPH']\n",
    "        flowstats = []\n",
    "        dX_G6P = 1\n",
    "    elif path == 'both':\n",
    "        chemostats = ['ADP', 'ATP', 'CO2', 'G6P', 'H', 'H2O', 'NADP', 'NADPH', 'R5P']\n",
    "        flowstats =  ['PGI', 'TKT2']\n",
    "        dX_G6P = 1\n",
    "    elif path == 'all':\n",
    "        chemostats = ['ADP', 'ATP', 'CO2', 'G6P', 'H', 'H2O', 'NADP', 'NADPH', 'R5P','G3P']\n",
    "        flowstats = []\n",
    "        dX_G6P = 10\n",
    "        \n",
    "    sc = st.statify(s,chemostats=chemostats)\n",
    "    sf = st.statify(s,flowstats=flowstats)\n",
    "    \n",
    "    return sc,sf,dX_G6P\n"
   ]
  },
  {
   "cell_type": "markdown",
   "metadata": {},
   "source": [
    "## Time unit"
   ]
  },
  {
   "cell_type": "code",
   "execution_count": 21,
   "metadata": {},
   "outputs": [
    {
     "name": "stdout",
     "output_type": "stream",
     "text": [
      "Time unit: 0.680672268907563\n"
     ]
    }
   ],
   "source": [
    "##t_0 = ((1000*c_G6P)/flux_PGI)*100\n",
    "print(\"Time unit:\", t_0)"
   ]
  },
  {
   "cell_type": "markdown",
   "metadata": {},
   "source": [
    "## Simulation"
   ]
  },
  {
   "cell_type": "code",
   "execution_count": 22,
   "metadata": {
    "scrolled": false
   },
   "outputs": [
    {
     "name": "stdout",
     "output_type": "stream",
     "text": [
      "\n",
      " Path = all\n",
      "G6P:\t-71.1 \t-71.1\t-10.0\t-100.0%\n",
      "R5P:\t6.2 \t6.2\t0.9\t8.7%\n",
      "NADPH:\t23.2 \t23.2\t3.3\t32.6%\n",
      "ADP:\t63.1 \t63.1\t8.9\t88.8%\n",
      "CO2:\t11.6 \t11.6\t1.6\t16.3%\n",
      "H:\t86.3 \t86.3\t12.1\t121.3%\n",
      "H2O:\t-11.6 \t-11.6\t-1.6\t-16.3%\n",
      "\n",
      " Path = both\n",
      "G6P:\t-11.6 \t-11.6\t-1.0\t-100.0%\n",
      "R5P:\t6.2 \t11.5\t1.0\t99.4%\n",
      "NADPH:\t23.2 \t23.2\t2.0\t200.0%\n",
      "ADP:\t63.1 \t0.0\t0.0\t0.4%\n",
      "CO2:\t11.6 \t11.6\t1.0\t100.0%\n",
      "H:\t86.3 \t23.2\t2.0\t200.4%\n",
      "H2O:\t-11.6 \t-11.6\t-1.0\t-100.0%\n",
      "\n",
      " Path = R5P\n",
      "G6P:\t-59.5 \t-2.4\t-5.0\t-100.0%\n",
      "R5P:\t6.2 \t2.9\t6.0\t120.0%\n",
      "NADPH:\t11.6 \t0.0\t0.0\t0.2%\n",
      "ADP:\t63.1 \t0.5\t1.0\t20.0%\n",
      "CO2:\t11.6 \t0.0\t0.0\t0.1%\n",
      "H:\t74.7 \t0.5\t1.0\t20.2%\n",
      "H2O:\t-11.6 \t-0.0\t-0.0\t-0.1%\n",
      "\n",
      " Path = NADPH\n",
      "G6P:\t-71.1 \t-1.9\t-1.0\t-100.0%\n",
      "R5P:\t6.2 \t0.0\t0.0\t0.0%\n",
      "NADPH:\t23.2 \t23.1\t12.0\t1200.0%\n",
      "ADP:\t63.1 \t-1.9\t-1.0\t-100.0%\n",
      "CO2:\t11.6 \t11.6\t6.0\t600.0%\n",
      "H:\t86.3 \t21.2\t11.0\t1100.0%\n",
      "H2O:\t-11.6 \t-11.6\t-6.0\t-600.0%\n"
     ]
    }
   ],
   "source": [
    "approximateFlowstats = True\n",
    "\n",
    "Spec = ['G6P','R5P','NADPH','ADP','CO2','H','H2O']\n",
    "paths = ['all','both','R5P','NADPH']\n",
    "#paths = ['R5P']\n",
    "RATIO = {}\n",
    "for path in paths:\n",
    "    Ratio = {}\n",
    "    normalisedRatio = {}\n",
    " \n",
    "    ## Set up pathway]\n",
    "    spec = sc['species']\n",
    "    sc,sf,dX_G6P_0 = setPath(s,path=path)\n",
    "    \n",
    "    ## Set up parameters\n",
    "    par = copy.copy(parameter)\n",
    "    if approximateFlowstats:\n",
    "        small = 1e-3\n",
    "        par = copy.copy(parameter)\n",
    "        for fs in sf['flowstats']:\n",
    "            par['kappa_'+fs] = small\n",
    "        sf = None\n",
    "        \n",
    "    ## Simulate\n",
    "    t = np.linspace(0,20*t_0,100)\n",
    "    dat = st.sim(s,sc=sc,sf=sf,t=t,parameter=par,X0=conc)\n",
    "    #st.plot(s,dat,species=[])\n",
    "    #st.plot(s,dat,reaction=[],species=Spec,dX=True)\n",
    "    \n",
    "    ## Extract some external flows\n",
    "    DX = dat['dX']\n",
    "    dX = {}\n",
    "    for Sp in Spec:\n",
    "        dX[Sp] = DX[:,spec.index(Sp)]\n",
    "        Ratio[Sp] = -dX[Sp]/dX['G6P']\n",
    "        normalisedRatio[Sp] =  -dX_G6P_0*dX[Sp]/dX['G6P'] \n",
    "        \n",
    "    RATIO[path] = normalisedRatio\n",
    "    \n",
    "    ## Print steady-state values\n",
    "    for Sp in Spec:\n",
    "        ratio = Ratio[Sp][-1]\n",
    "        print(f'{Sp}:\\t{dX[Sp][0]:3.1f} \\t{dX[Sp][-1]:3.1f}\\t{(dX_G6P_0*ratio):3.1f}\\t{100*ratio:3.1f}%')\n",
    "    "
   ]
  },
  {
   "cell_type": "code",
   "execution_count": 23,
   "metadata": {},
   "outputs": [
    {
     "data": {
      "text/plain": [
       "[<matplotlib.lines.Line2D at 0x7f8eecf973d0>]"
      ]
     },
     "execution_count": 23,
     "metadata": {},
     "output_type": "execute_result"
    },
    {
     "data": {
      "text/plain": [
       "[<matplotlib.lines.Line2D at 0x7f8eecfb54f0>]"
      ]
     },
     "execution_count": 23,
     "metadata": {},
     "output_type": "execute_result"
    },
    {
     "data": {
      "text/plain": [
       "[<matplotlib.lines.Line2D at 0x7f8eecfb58e0>]"
      ]
     },
     "execution_count": 23,
     "metadata": {},
     "output_type": "execute_result"
    },
    {
     "data": {
      "text/plain": [
       "Text(0, 0.5, '$\\\\rho_{R5P}$')"
      ]
     },
     "execution_count": 23,
     "metadata": {},
     "output_type": "execute_result"
    },
    {
     "data": {
      "text/plain": [
       "Text(0.5, 0, '$t/t_0$')"
      ]
     },
     "execution_count": 23,
     "metadata": {},
     "output_type": "execute_result"
    },
    {
     "data": {
      "text/plain": [
       "<matplotlib.legend.Legend at 0x7f8eecfb5f70>"
      ]
     },
     "execution_count": 23,
     "metadata": {},
     "output_type": "execute_result"
    },
    {
     "data": {
      "image/png": "[encoded data removed]",
      "text/plain": [
       "<Figure size 432x288 with 1 Axes>"
      ]
     },
     "metadata": {
      "needs_background": "light"
     },
     "output_type": "display_data"
    },
    {
     "data": {
      "text/plain": [
       "[<matplotlib.lines.Line2D at 0x7f8eec970400>]"
      ]
     },
     "execution_count": 23,
     "metadata": {},
     "output_type": "execute_result"
    },
    {
     "data": {
      "text/plain": [
       "[<matplotlib.lines.Line2D at 0x7f8eec970730>]"
      ]
     },
     "execution_count": 23,
     "metadata": {},
     "output_type": "execute_result"
    },
    {
     "data": {
      "text/plain": [
       "[<matplotlib.lines.Line2D at 0x7f8eec970880>]"
      ]
     },
     "execution_count": 23,
     "metadata": {},
     "output_type": "execute_result"
    },
    {
     "data": {
      "text/plain": [
       "Text(0, 0.5, '$\\\\rho_{NADPH}$')"
      ]
     },
     "execution_count": 23,
     "metadata": {},
     "output_type": "execute_result"
    },
    {
     "data": {
      "text/plain": [
       "Text(0.5, 0, '$t/t_0$')"
      ]
     },
     "execution_count": 23,
     "metadata": {},
     "output_type": "execute_result"
    },
    {
     "data": {
      "text/plain": [
       "<matplotlib.legend.Legend at 0x7f8eed0156a0>"
      ]
     },
     "execution_count": 23,
     "metadata": {},
     "output_type": "execute_result"
    },
    {
     "data": {
      "image/png": "[encoded data removed]",
      "text/plain": [
       "<Figure size 432x288 with 1 Axes>"
      ]
     },
     "metadata": {
      "needs_background": "light"
     },
     "output_type": "display_data"
    }
   ],
   "source": [
    "## Plot ratios\n",
    "name = ['i','ii','iii']\n",
    "for sp in ['R5P','NADPH']: \n",
    "    BigFont = 24\n",
    "    plt.rcParams.update({'font.size': BigFont})\n",
    "    for i,path in enumerate(['both','R5P','NADPH']):\n",
    "        Ratio = RATIO[path]\n",
    "        label = f'Path {name[i]}'\n",
    "        plt.plot(t/t_0,Ratio[sp],label=label,linewidth=5)\n",
    "    ylabel = r'$\\rho_{'+sp+'}$'\n",
    "    plt.ylabel(ylabel)\n",
    "    plt.xlabel('$t/t_0$')\n",
    "    plt.legend()\n",
    "    plt.grid()\n",
    "#     plt.savefig(f'Figs/{sp}.pdf',bbox_inches='tight')\n",
    "\n",
    "    plt.show()"
   ]
  },
  {
   "cell_type": "code",
   "execution_count": null,
   "metadata": {},
   "outputs": [],
   "source": []
  },
  {
   "cell_type": "code",
   "execution_count": null,
   "metadata": {},
   "outputs": [],
   "source": []
  },
  {
   "cell_type": "code",
   "execution_count": null,
   "metadata": {},
   "outputs": [],
   "source": []
  }
 ],
 "metadata": {
  "kernelspec": {
   "display_name": "Python 3",
   "language": "python",
   "name": "python3"
  },
  "language_info": {
   "codemirror_mode": {
    "name": "ipython",
    "version": 3
   },
   "file_extension": ".py",
   "mimetype": "text/x-python",
   "name": "python",
   "nbconvert_exporter": "python",
   "pygments_lexer": "ipython3",
   "version": "3.8.5"
  },
  "toc": {
   "base_numbering": 1,
   "nav_menu": {},
   "number_sections": true,
   "sideBar": true,
   "skip_h1_title": false,
   "title_cell": "Table of Contents",
   "title_sidebar": "Contents",
   "toc_cell": false,
   "toc_position": {},
   "toc_section_display": true,
   "toc_window_display": false
  }
 },
 "nbformat": 4,
 "nbformat_minor": 4
}
